{
 "cells": [
  {
   "cell_type": "code",
   "execution_count": 1,
   "metadata": {},
   "outputs": [
    {
     "name": "stderr",
     "output_type": "stream",
     "text": [
      "Matplotlib is building the font cache; this may take a moment.\n"
     ]
    }
   ],
   "source": [
    "import os\n",
    "import sys\n",
    "\n",
    "\n",
    "import argparse\n",
    "import numpy as np\n",
    "\n",
    "\n",
    "import torch\n",
    "import torch.nn as nn\n",
    "from torch.utils.data import Dataset, DataLoader\n",
    "\n",
    "from tqdm import tqdm\n",
    "\n",
    "from utils.waymo_motion_dataset2 import waymo_motion_dataset, collate\n",
    "\n",
    "from utils.VectorNet import SubGraph, GNN\n",
    "from utils.MTP_loss import multi_mode_loss_L2\n",
    "from utils.Joint_metric import min_K_joint_ADE_metric\n",
    "from utils.Decoder3 import Decoder\n",
    "\n",
    "import math\n",
    "import os\n",
    "import uuid\n",
    "import time\n",
    "import torch\n",
    "\n",
    "from matplotlib import cm\n",
    "import matplotlib.animation as animation\n",
    "import matplotlib.pyplot as plt\n",
    "\n",
    "import numpy as np\n",
    "from IPython.display import HTML\n",
    "import itertools\n",
    "import tensorflow.compat.v1 as tf\n",
    "\n",
    "from google.protobuf import text_format\n",
    "from waymo_open_dataset.metrics.ops import py_metrics_ops\n",
    "from waymo_open_dataset.metrics.python import config_util_py as config_util\n",
    "from waymo_open_dataset.protos import motion_metrics_pb2\n"
   ]
  },
  {
   "cell_type": "code",
   "execution_count": 2,
   "metadata": {},
   "outputs": [
    {
     "name": "stdout",
     "output_type": "stream",
     "text": [
      "CUDA is supported\n"
     ]
    }
   ],
   "source": [
    "use_cuda = torch.cuda.is_available()\n",
    "if use_cuda:\n",
    "    device = torch.device(\"cuda\")\n",
    "    extras = {\"num_workers\": len(os.sched_getaffinity(0)), \"pin_memory\": True}\n",
    "    print(\"CUDA is supported\")\n",
    "else: # Otherwise, train on the CPU\n",
    "    device = torch.device(\"cpu\")\n",
    "    extras = {\"num_workers\": len(os.sched_getaffinity(0)), \"pin_memory\": False}\n",
    "    print(\"CUDA NOT supported\")"
   ]
  },
  {
   "cell_type": "code",
   "execution_count": 3,
   "metadata": {},
   "outputs": [
    {
     "name": "stderr",
     "output_type": "stream",
     "text": [
      "100%|██████████| 1/1 [00:22<00:00, 22.24s/it]\n"
     ]
    }
   ],
   "source": [
    "val_path = '/home/sghosal/DATA/'\n",
    "#val_path = '/datasets-2/waymo/uncompressed/tf_example/validation_interactive/'\n",
    "val_dataset = waymo_motion_dataset(dataroot = val_path,\n",
    "                                         scene_list = range(5,6))\n",
    "    \n",
    "val_loader = DataLoader(dataset = val_dataset,\n",
    "                              batch_size =1,\n",
    "                              shuffle = True,\n",
    "                              collate_fn = collate,\n",
    "                              num_workers = 4,\n",
    "                              pin_memory = extras['pin_memory'])"
   ]
  },
  {
   "cell_type": "code",
   "execution_count": 4,
   "metadata": {},
   "outputs": [
    {
     "data": {
      "text/plain": [
       "'\\nagent_subgraph = agent_subgraph.to(device)\\nroadmap_subgraph = roadmap_subgraph.to(device)\\nglobal_graph = global_graph.to(device)\\ndecoder = decoder.to(device)\\n\\ntrainable_params = list(agent_subgraph.parameters())                     + list(roadmap_subgraph.parameters())                     + list(global_graph.parameters())                     + list(decoder.parameters())\\n\\n# Define loss functions, metrics, and optimizer\\noptimizer = torch.optim.Adam(trainable_params, lr = 1e-3)\\n\\n'"
      ]
     },
     "execution_count": 4,
     "metadata": {},
     "output_type": "execute_result"
    }
   ],
   "source": [
    "# Define subgraph propagation networks\n",
    "N_hidden = 64\n",
    "# Agent vector is 9\n",
    "# [x, y, z, one-hot-type (5), id]\n",
    "agent_subgraph = SubGraph(8, N_hidden).to(device)\n",
    "# Roadmap vector is 27\n",
    "# [x, y, z, dir_x, dir_y, dir_z, one-hot-type (20), id]\n",
    "roadmap_subgraph = SubGraph(26, N_hidden).to(device)\n",
    "# Define global interaction graph\n",
    "global_graph = GNN(N_hidden).to(device)  \n",
    "\n",
    "# Define decoder\n",
    "N_modes = 3\n",
    "T = 80\n",
    "decoder = Decoder(2*N_hidden + 5, N_modes, T).to(device)\n",
    "model = torch.load('/home/sghosal/working_models_12_06_20/model_GNN.pt')\n",
    "agent_subgraph.load_state_dict(model['agent_subgraph'])\n",
    "roadmap_subgraph.load_state_dict(model['roadmap_subgraph'])\n",
    "global_graph.load_state_dict(model['global_graph'])\n",
    "decoder.load_state_dict(model['decoder'])\n",
    "'''\n",
    "agent_subgraph = agent_subgraph.to(device)\n",
    "roadmap_subgraph = roadmap_subgraph.to(device)\n",
    "global_graph = global_graph.to(device)\n",
    "decoder = decoder.to(device)\n",
    "\n",
    "trainable_params = list(agent_subgraph.parameters()) \\\n",
    "                    + list(roadmap_subgraph.parameters()) \\\n",
    "                    + list(global_graph.parameters()) \\\n",
    "                    + list(decoder.parameters())\n",
    "\n",
    "# Define loss functions, metrics, and optimizer\n",
    "optimizer = torch.optim.Adam(trainable_params, lr = 1e-3)\n",
    "\n",
    "'''\n"
   ]
  },
  {
   "cell_type": "code",
   "execution_count": 5,
   "metadata": {},
   "outputs": [
    {
     "name": "stderr",
     "output_type": "stream",
     "text": [
      "100%|██████████| 1/1 [00:01<00:00,  1.88s/it]"
     ]
    },
    {
     "name": "stdout",
     "output_type": "stream",
     "text": [
      "Epoch Loss: tensor([3.0697], device='cuda:0', grad_fn=<DivBackward0>)\n"
     ]
    },
    {
     "name": "stderr",
     "output_type": "stream",
     "text": [
      "\r",
      "100%|██████████| 1/1 [00:03<00:00,  3.38s/it]"
     ]
    },
    {
     "name": "stdout",
     "output_type": "stream",
     "text": [
      "minADE on validation set: tensor([3.0697], device='cuda:0', grad_fn=<DivBackward0>)\n"
     ]
    },
    {
     "name": "stderr",
     "output_type": "stream",
     "text": [
      "\n"
     ]
    }
   ],
   "source": [
    "Loss = 0\n",
    "for minibatch_count,data in enumerate(tqdm(val_loader)):             \n",
    "    agents_polylines, agents_polylines_mask, \\\n",
    "    roadgraph_polylines, roadgraph_polylines_mask, \\\n",
    "    targets, targets_mask,\\\n",
    "    tracks_to_predict, objects_of_interest,\\\n",
    "    agents_motion = data\n",
    "\n",
    "    batch_size, num_agents, num_steps, dim_agent_vec = agents_polylines.shape\n",
    "    _, num_max_roads, num_max_road_length, dim_road_vec = roadgraph_polylines.shape\n",
    "\n",
    "    agents_polylines, agents_polylines_mask = agents_polylines.to(device), agents_polylines_mask.to(device)\n",
    "    roadgraph_polylines, roadgraph_polylines_mask = roadgraph_polylines.to(device), roadgraph_polylines_mask.to(device)\n",
    "    targets, targets_mask = targets.to(device), targets_mask.to(device)\n",
    "    agents_motion = agents_motion.to(device)\n",
    "\n",
    "    agent_polyline_features = agent_subgraph(agents_polylines[:, :, :, :8],\n",
    "                                             agents_polylines_mask,\n",
    "                                               agents_polylines.shape[1], agents_polylines.shape[2])\n",
    "    roadgraph_polyline_features = roadmap_subgraph(roadgraph_polylines[:, :, :, :26], \n",
    "                                                  roadgraph_polylines_mask,\n",
    "                                               roadgraph_polylines.shape[1], roadgraph_polylines.shape[2])\n",
    "    agent_feature_mask = torch.any(agents_polylines_mask, dim = 2)\n",
    "    roadgraph_feature_mask = torch.any(roadgraph_polylines_mask, dim = 2)\n",
    "\n",
    "    graph_input = torch.cat([agent_polyline_features,roadgraph_polyline_features], dim = 1)\n",
    "    graph_output = global_graph(input_var = graph_input, \n",
    "                           input_mask = torch.cat([agent_feature_mask, roadgraph_feature_mask], dim = 1))\n",
    "    \n",
    "    graph_output = torch.cat([graph_output, graph_input], axis = 2)\n",
    "    loss = 0\n",
    "    # Decode and compute loss scene by scene\n",
    "    for s in range(batch_size):\n",
    "        agent_inds = torch.nonzero((objects_of_interest == 1)[s,:], as_tuple=True)[0]\n",
    "        num_tracks_to_predict = agent_inds.shape[0]\n",
    "\n",
    "    #                 for ind in agent_inds:\n",
    "    # #                     target_features = agent_polyline_features[s, [ind.item()], :]\n",
    "    #                     target_features = torch.cat([agent_polyline_features[s, [ind.item()], :], \n",
    "    #                                                  agents_motion[s, [ind.item()], :]], dim = 1)\n",
    "    #     #                 target_features = torch.cat([graph_output[s,agent_inds,:], \n",
    "    #     #                                              agent_polyline_features[s, agent_inds, :]], dim = 1)\n",
    "    #     #                 target_features = graph_output[s, agent_inds, :]\n",
    "    #     #                 target_features = torch.cat([graph_output[s,agent_inds,:], \n",
    "    #     #                                              agents_polylines[s, agent_inds, 0, : 2],\n",
    "    #     #                                              agents_motion[s, agent_inds, :]], dim = 1)\n",
    "    #                     decoded_traj, decoded_probs = decoder(target_features)\n",
    "    #                     ground_truth = targets[s, [ind.item()], :, :2]\n",
    "\n",
    "    #                     pos_loss, log_loss, pos_loss_10 = multi_mode_loss_L2(decoded_traj, decoded_probs, ground_truth)\n",
    "    #                     loss = loss + pos_loss + log_loss\n",
    "    #                     pos_loss_total += pos_loss\n",
    "    #                     pos_loss_10_total += pos_loss_10\n",
    "\n",
    "    #                 target_features = agent_polyline_features[s, agent_inds, :]\n",
    "    #                 target_features = torch.cat([agent_polyline_features[s, agent_inds, :], \n",
    "    #                                              agents_motion[s, agent_inds, :]], dim = 1)\n",
    "    #                 target_features = torch.cat([agent_polyline_features[s, agent_inds, :], \n",
    "    #                                              agents_polylines[s, agent_inds, 0, : 2],\n",
    "    #                                              agents_motion[s, agent_inds, :]], dim = 1)\n",
    "    #                target_features = torch.cat([graph_output[s,agent_inds,:], \n",
    "    #                                              agent_polyline_features[s, agent_inds, :]], dim = 1)\n",
    "    #                target_features = graph_output[s, agent_inds, :]\n",
    "\n",
    "        target_features = torch.cat([graph_output[s,agent_inds,:], \n",
    "                                              agents_polylines[s, agent_inds, 0, : 2],\n",
    "                                              agents_motion[s, agent_inds, :]], dim = 1)\n",
    "        decoded_traj, decoded_probs = decoder(target_features)\n",
    "        ground_truth = targets[s,agent_inds,:,0:2]\n",
    "\n",
    "        loss = min_K_joint_ADE_metric(decoded_traj,ground_truth)\n",
    "\n",
    "\n",
    "\n",
    "\n",
    "    loss = loss / batch_size / num_tracks_to_predict\n",
    "\n",
    "\n",
    "    Loss+=loss\n",
    "    print('Epoch Loss: {}'.format(loss))\n",
    "print(\"minADE on validation set: {}\".format(Loss/len(val_dataset)))\n"
   ]
  },
  {
   "cell_type": "code",
   "execution_count": 6,
   "metadata": {},
   "outputs": [
    {
     "data": {
      "image/png": "[encoded data removed]",
      "text/plain": [
       "<Figure size 432x288 with 1 Axes>"
      ]
     },
     "metadata": {
      "needs_background": "light"
     },
     "output_type": "display_data"
    }
   ],
   "source": [
    "plt.rcParams[\"figure.figsize\"] = (6,4)\n",
    "plt.plot(decoded_traj.cpu().detach().numpy()[0,0,0,0],decoded_traj.cpu().detach().numpy()[0,0,0,1], '*')\n",
    "plt.plot(decoded_traj.cpu().detach().numpy()[0,0,:,0],decoded_traj.cpu().detach().numpy()[0,0,:,1],'r' ,label='Agent1')\n",
    "plt.plot(decoded_traj.cpu().detach().numpy()[0,1,:,0],decoded_traj.cpu().detach().numpy()[0,1,:,1],'r' ,label='Agent1')\n",
    "plt.plot(decoded_traj.cpu().detach().numpy()[0,2,:,0],decoded_traj.cpu().detach().numpy()[0,2,:,1],'r' ,label='Agent1')\n",
    "plt.plot(ground_truth.cpu().detach().numpy()[0,:,0],ground_truth.cpu().detach().numpy()[0,:,1],'b--',label='Ground truth')\n",
    "plt.legend()\n",
    "plt.show()\n"
   ]
  },
  {
   "cell_type": "code",
   "execution_count": 7,
   "metadata": {},
   "outputs": [
    {
     "data": {
      "image/png": "[encoded data removed]",
      "text/plain": [
       "<Figure size 432x288 with 1 Axes>"
      ]
     },
     "metadata": {
      "needs_background": "light"
     },
     "output_type": "display_data"
    }
   ],
   "source": [
    "plt.plot(decoded_traj.cpu().detach().numpy()[1,0,0,0],decoded_traj.cpu().detach().numpy()[1,0,0,1], '*')\n",
    "plt.plot(decoded_traj.cpu().detach().numpy()[1,0,:,0],decoded_traj.cpu().detach().numpy()[1,0,:,1],'r', label='Agent2')\n",
    "plt.plot(decoded_traj.cpu().detach().numpy()[1,1,:,0],decoded_traj.cpu().detach().numpy()[1,1,:,1],'r', label='Agent2')\n",
    "plt.plot(decoded_traj.cpu().detach().numpy()[1,2,:,0],decoded_traj.cpu().detach().numpy()[1,2,:,1],'r', label='Agent2')\n",
    "plt.plot(ground_truth.cpu().detach().numpy()[1,:,0],ground_truth.cpu().detach().numpy()[1,:,1],'b--', label='Ground truth')\n",
    "plt.legend()\n",
    "plt.show()\n"
   ]
  },
  {
   "cell_type": "code",
   "execution_count": 8,
   "metadata": {},
   "outputs": [
    {
     "data": {
      "image/png": "[encoded data removed]",
      "text/plain": [
       "<Figure size 432x288 with 1 Axes>"
      ]
     },
     "metadata": {
      "needs_background": "light"
     },
     "output_type": "display_data"
    }
   ],
   "source": [
    "plt.plot(decoded_traj.cpu().detach().numpy()[0,2,0,0],decoded_traj.cpu().detach().numpy()[0,0,0,1], '*', label='starting point')\n",
    "plt.plot(decoded_traj.cpu().detach().numpy()[1,2,0,0],decoded_traj.cpu().detach().numpy()[1,0,0,1], '*', label='starting point')\n",
    "plt.plot(decoded_traj.cpu().detach().numpy()[0,1,:60,0],decoded_traj.cpu().detach().numpy()[0,0,:60,1], label='Agent1 mode 1')\n",
    "plt.plot(decoded_traj.cpu().detach().numpy()[1,1,:60,0],decoded_traj.cpu().detach().numpy()[1,0,:60,1], label='Agent2 mode 1')\n",
    "plt.legend()\n",
    "plt.show()"
   ]
  },
  {
   "cell_type": "code",
   "execution_count": 9,
   "metadata": {},
   "outputs": [
    {
     "data": {
      "image/png": "[encoded data removed]",
      "text/plain": [
       "<Figure size 432x288 with 1 Axes>"
      ]
     },
     "metadata": {
      "needs_background": "light"
     },
     "output_type": "display_data"
    }
   ],
   "source": [
    "plt.plot(decoded_traj.cpu().detach().numpy()[0,2,0,0],decoded_traj.cpu().detach().numpy()[0,1,0,1], '*', label='starting point')\n",
    "plt.plot(decoded_traj.cpu().detach().numpy()[1,2,0,0],decoded_traj.cpu().detach().numpy()[1,1,0,1], '*', label='starting point')\n",
    "plt.plot(decoded_traj.cpu().detach().numpy()[0,2,:,0],decoded_traj.cpu().detach().numpy()[0,1,:,1], label='Agent1 mode2')\n",
    "plt.plot(decoded_traj.cpu().detach().numpy()[1,2,:,0],decoded_traj.cpu().detach().numpy()[1,1,:,1], label='Agent2 mode2')\n",
    "plt.legend()\n",
    "plt.show()"
   ]
  },
  {
   "cell_type": "code",
   "execution_count": 10,
   "metadata": {},
   "outputs": [
    {
     "data": {
      "image/png": "[encoded data removed]",
      "text/plain": [
       "<Figure size 432x288 with 1 Axes>"
      ]
     },
     "metadata": {
      "needs_background": "light"
     },
     "output_type": "display_data"
    }
   ],
   "source": [
    "plt.plot(decoded_traj.cpu().detach().numpy()[0,2,0,0],decoded_traj.cpu().detach().numpy()[0,2,0,1], '*', label='starting point')\n",
    "plt.plot(decoded_traj.cpu().detach().numpy()[1,2,0,0],decoded_traj.cpu().detach().numpy()[1,2,0,1], '*', label='starting point')\n",
    "plt.plot(decoded_traj.cpu().detach().numpy()[0,2,:,0],decoded_traj.cpu().detach().numpy()[0,2,:,1], label='Agent1 mode3')\n",
    "plt.plot(decoded_traj.cpu().detach().numpy()[1,2,:,0],decoded_traj.cpu().detach().numpy()[1,2,:,1], label='Agent2 mode3')\n",
    "plt.legend()\n",
    "plt.show()"
   ]
  },
  {
   "cell_type": "code",
   "execution_count": 11,
   "metadata": {},
   "outputs": [
    {
     "data": {
      "text/plain": [
       "<tf.Tensor: shape=(0, 2), dtype=int64, numpy=array([], shape=(0, 2), dtype=int64)>"
      ]
     },
     "execution_count": 11,
     "metadata": {},
     "output_type": "execute_result"
    }
   ],
   "source": [
    "tf.where(np.linalg.norm(decoded_traj.cpu().detach().numpy()[0] - decoded_traj.cpu().detach().numpy()[1],axis = 1) < 7)"
   ]
  },
  {
   "cell_type": "code",
   "execution_count": 12,
   "metadata": {},
   "outputs": [
    {
     "data": {
      "text/plain": [
       "array([[[ 3.09859800e+00,  7.03042698e+00],\n",
       "        [ 2.86449337e+00,  6.93040562e+00],\n",
       "        [ 2.96061802e+00,  6.53094673e+00],\n",
       "        [ 2.51120734e+00,  6.31746387e+00],\n",
       "        [ 2.22140408e+00,  6.28712273e+00],\n",
       "        [ 2.30449867e+00,  5.88397694e+00],\n",
       "        [ 1.90798306e+00,  5.62087011e+00],\n",
       "        [ 1.86404884e+00,  5.27549362e+00],\n",
       "        [ 1.49549091e+00,  5.17228413e+00],\n",
       "        [ 1.38799882e+00,  4.90676594e+00],\n",
       "        [ 1.27299774e+00,  4.79387188e+00],\n",
       "        [ 9.23526168e-01,  4.51223373e+00],\n",
       "        [ 6.48237944e-01,  4.41615772e+00],\n",
       "        [ 3.62140179e-01,  3.82363653e+00],\n",
       "        [ 2.69945085e-01,  4.01209831e+00],\n",
       "        [-5.53391576e-02,  3.25467300e+00],\n",
       "        [-3.80781889e-02,  3.40838695e+00],\n",
       "        [-3.32353592e-01,  3.01023602e+00],\n",
       "        [-5.78116179e-01,  2.74395561e+00],\n",
       "        [-7.20944226e-01,  2.83071661e+00],\n",
       "        [-8.19638371e-01,  2.27207518e+00],\n",
       "        [-1.23121440e+00,  2.17539883e+00],\n",
       "        [-1.28392529e+00,  2.12995410e+00],\n",
       "        [-1.63239300e+00,  1.88386309e+00],\n",
       "        [-1.90590739e+00,  1.49626422e+00],\n",
       "        [-1.71790266e+00,  1.22872615e+00],\n",
       "        [-1.89750552e+00,  1.27430594e+00],\n",
       "        [-2.25363016e+00,  8.78981829e-01],\n",
       "        [-2.57114387e+00,  3.73808861e-01],\n",
       "        [-2.52648187e+00,  1.85104370e-01],\n",
       "        [-2.71281981e+00,  3.76111507e-01],\n",
       "        [-2.86027098e+00, -7.15718269e-02],\n",
       "        [-3.42712379e+00, -5.11313915e-01],\n",
       "        [-3.14310169e+00, -3.68435860e-01],\n",
       "        [-3.86056399e+00, -8.26065540e-01],\n",
       "        [-3.68592548e+00, -8.80821943e-01],\n",
       "        [-3.65085220e+00, -1.24829555e+00],\n",
       "        [-3.98320031e+00, -1.35285521e+00],\n",
       "        [-4.35147572e+00, -2.07856011e+00],\n",
       "        [-4.28789234e+00, -2.10086155e+00],\n",
       "        [-4.36722422e+00, -2.36260748e+00],\n",
       "        [-4.75408077e+00, -2.24481130e+00],\n",
       "        [-4.84030676e+00, -2.54808784e+00],\n",
       "        [-4.89129019e+00, -3.14865232e+00],\n",
       "        [-5.22506094e+00, -3.25661850e+00],\n",
       "        [-5.65076876e+00, -3.45379853e+00],\n",
       "        [-5.66184855e+00, -3.79430556e+00],\n",
       "        [-5.63094521e+00, -3.62314558e+00],\n",
       "        [-6.32016230e+00, -4.22369051e+00],\n",
       "        [-6.32672644e+00, -4.54873085e+00],\n",
       "        [-6.62046719e+00, -4.57851696e+00],\n",
       "        [-6.25934887e+00, -5.01385736e+00],\n",
       "        [-6.54507399e+00, -4.73582792e+00],\n",
       "        [-7.05948734e+00, -5.31242466e+00],\n",
       "        [-6.81863880e+00, -6.22597885e+00],\n",
       "        [-6.88739109e+00, -5.86139774e+00],\n",
       "        [-7.19985437e+00, -5.86600590e+00],\n",
       "        [-7.62376785e+00, -5.88041019e+00],\n",
       "        [-7.37591267e+00, -6.74617100e+00],\n",
       "        [-7.59741831e+00, -6.39072847e+00],\n",
       "        [-7.88051319e+00, -7.08802938e+00],\n",
       "        [-7.66936779e+00, -7.04991341e+00],\n",
       "        [-8.02969933e+00, -7.15470982e+00],\n",
       "        [-8.18765163e+00, -7.49842119e+00],\n",
       "        [-8.10823917e+00, -7.79781342e+00],\n",
       "        [-8.25053501e+00, -7.78486633e+00],\n",
       "        [-8.75222301e+00, -7.38914061e+00],\n",
       "        [-8.57955551e+00, -8.32695007e+00],\n",
       "        [-8.55413914e+00, -8.29554939e+00],\n",
       "        [-9.08035851e+00, -8.56289673e+00],\n",
       "        [-9.14972878e+00, -8.38592720e+00],\n",
       "        [-9.09152031e+00, -8.66842365e+00],\n",
       "        [-9.35149479e+00, -8.92293739e+00],\n",
       "        [-9.39443970e+00, -9.19875908e+00],\n",
       "        [-9.47438717e+00, -8.99117088e+00],\n",
       "        [-9.62260914e+00, -9.49814510e+00],\n",
       "        [-9.62060833e+00, -9.85333443e+00],\n",
       "        [-9.95479202e+00, -9.24727535e+00],\n",
       "        [-1.00566664e+01, -9.32555676e+00],\n",
       "        [-1.01316099e+01, -8.85504627e+00]],\n",
       "\n",
       "       [[ 2.93857336e+00,  7.05963182e+00],\n",
       "        [ 2.70113611e+00,  6.90479279e+00],\n",
       "        [ 3.02916765e+00,  6.66995239e+00],\n",
       "        [ 2.44389153e+00,  6.19753265e+00],\n",
       "        [ 2.23647881e+00,  6.32840538e+00],\n",
       "        [ 2.22532821e+00,  6.09610653e+00],\n",
       "        [ 1.84251428e+00,  5.66805410e+00],\n",
       "        [ 1.94265008e+00,  5.05811787e+00],\n",
       "        [ 1.27188826e+00,  5.25559855e+00],\n",
       "        [ 1.41270411e+00,  4.67030334e+00],\n",
       "        [ 8.90127063e-01,  4.29111195e+00],\n",
       "        [ 1.03332436e+00,  4.02566242e+00],\n",
       "        [ 5.10909438e-01,  3.63393164e+00],\n",
       "        [ 2.79891849e-01,  3.84082842e+00],\n",
       "        [ 1.03438616e-01,  3.14787197e+00],\n",
       "        [ 3.29353452e-01,  3.16027808e+00],\n",
       "        [ 4.32042480e-01,  1.89218593e+00],\n",
       "        [-7.70028472e-01,  2.12947655e+00],\n",
       "        [-3.98018837e-01,  2.19058466e+00],\n",
       "        [-7.73138642e-01,  1.45216465e+00],\n",
       "        [-1.37119579e+00,  8.43726277e-01],\n",
       "        [-1.00979555e+00,  1.02498877e+00],\n",
       "        [-9.93993640e-01,  6.78250492e-01],\n",
       "        [-1.71693003e+00,  4.09409881e-01],\n",
       "        [-1.29060221e+00,  9.20486450e-02],\n",
       "        [-1.73267031e+00, -2.89142013e-01],\n",
       "        [-1.90656805e+00, -6.20860755e-01],\n",
       "        [-2.01100922e+00, -2.50496507e-01],\n",
       "        [-2.58623934e+00, -1.00031483e+00],\n",
       "        [-2.09577966e+00, -1.06954551e+00],\n",
       "        [-2.85241437e+00, -1.16038513e+00],\n",
       "        [-3.47351599e+00, -1.75523603e+00],\n",
       "        [-3.24421620e+00, -1.94581735e+00],\n",
       "        [-2.64751053e+00, -2.44858909e+00],\n",
       "        [-3.27495956e+00, -2.50321436e+00],\n",
       "        [-3.59694386e+00, -2.25372648e+00],\n",
       "        [-4.00704575e+00, -3.05027509e+00],\n",
       "        [-4.22603941e+00, -3.73715615e+00],\n",
       "        [-4.12135792e+00, -3.29186964e+00],\n",
       "        [-4.03943110e+00, -4.25973177e+00],\n",
       "        [-4.16000652e+00, -3.48436046e+00],\n",
       "        [-3.58821869e+00, -4.68322563e+00],\n",
       "        [-5.03969336e+00, -5.17002773e+00],\n",
       "        [-4.20702934e+00, -5.09561729e+00],\n",
       "        [-4.26626778e+00, -5.35826588e+00],\n",
       "        [-5.26387215e+00, -5.56824493e+00],\n",
       "        [-4.81244087e+00, -5.74335861e+00],\n",
       "        [-5.10040379e+00, -5.61265373e+00],\n",
       "        [-5.24588203e+00, -6.52230978e+00],\n",
       "        [-4.92168617e+00, -7.27772045e+00],\n",
       "        [-5.42849064e+00, -7.06881762e+00],\n",
       "        [-5.82234383e+00, -7.09922028e+00],\n",
       "        [-5.34697390e+00, -8.05194378e+00],\n",
       "        [-5.95622349e+00, -7.59039497e+00],\n",
       "        [-6.07202768e+00, -8.70805645e+00],\n",
       "        [-6.00417662e+00, -9.55256844e+00],\n",
       "        [-4.73046160e+00, -7.67180252e+00],\n",
       "        [-5.18556929e+00, -8.55770302e+00],\n",
       "        [-5.10376453e+00, -8.93074799e+00],\n",
       "        [-5.35857773e+00, -1.02914772e+01],\n",
       "        [-5.41027975e+00, -9.63696766e+00],\n",
       "        [-5.22259760e+00, -9.74341869e+00],\n",
       "        [-5.43576717e+00, -9.72656441e+00],\n",
       "        [-4.78823471e+00, -1.06666603e+01],\n",
       "        [-5.43182898e+00, -1.06355782e+01],\n",
       "        [-6.02129126e+00, -1.14504032e+01],\n",
       "        [-6.16115713e+00, -1.14239254e+01],\n",
       "        [-5.91643763e+00, -1.21471195e+01],\n",
       "        [-5.60705757e+00, -1.15853605e+01],\n",
       "        [-5.78038931e+00, -1.16376848e+01],\n",
       "        [-6.80452967e+00, -7.59399986e+00],\n",
       "        [-7.55245018e+00, -8.78777313e+00],\n",
       "        [-6.83804417e+00, -8.05862617e+00],\n",
       "        [-6.60239840e+00, -6.54588795e+00],\n",
       "        [-6.67952967e+00, -6.59529543e+00],\n",
       "        [-7.22425985e+00, -5.12726688e+00],\n",
       "        [-7.30996943e+00, -5.11727047e+00],\n",
       "        [-6.66646385e+00, -4.82307959e+00],\n",
       "        [-7.15939569e+00, -5.23085451e+00],\n",
       "        [-6.00067091e+00, -4.94944477e+00]],\n",
       "\n",
       "       [[ 3.11492062e+00,  7.21114254e+00],\n",
       "        [ 2.91291499e+00,  6.85478973e+00],\n",
       "        [ 2.95966434e+00,  6.92472839e+00],\n",
       "        [ 2.74423265e+00,  6.50950050e+00],\n",
       "        [ 2.09863877e+00,  6.09936810e+00],\n",
       "        [ 2.02255726e+00,  6.04477978e+00],\n",
       "        [ 1.77865314e+00,  5.77156258e+00],\n",
       "        [ 1.56823456e+00,  5.54738522e+00],\n",
       "        [ 1.22641838e+00,  5.63793755e+00],\n",
       "        [ 1.08713830e+00,  5.08692646e+00],\n",
       "        [ 8.69329572e-01,  4.94372368e+00],\n",
       "        [ 7.49741197e-01,  4.52951717e+00],\n",
       "        [ 4.81157184e-01,  4.50535583e+00],\n",
       "        [ 2.78368652e-01,  4.56085253e+00],\n",
       "        [ 8.50152969e-02,  4.29310513e+00],\n",
       "        [ 2.79433727e-02,  3.89895630e+00],\n",
       "        [ 1.15036964e-03,  3.92690587e+00],\n",
       "        [-6.36786580e-01,  3.80865049e+00],\n",
       "        [-5.74030459e-01,  3.42538762e+00],\n",
       "        [-5.97615004e-01,  3.28036213e+00],\n",
       "        [-1.40413558e+00,  3.13985157e+00],\n",
       "        [-1.27656651e+00,  2.98267651e+00],\n",
       "        [-1.52812600e+00,  3.00667810e+00],\n",
       "        [-1.44606209e+00,  2.73508549e+00],\n",
       "        [-1.85542774e+00,  2.75669670e+00],\n",
       "        [-2.06987286e+00,  2.37427473e+00],\n",
       "        [-2.13961029e+00,  2.44905615e+00],\n",
       "        [-2.20157266e+00,  1.97160125e+00],\n",
       "        [-2.49230289e+00,  1.97378612e+00],\n",
       "        [-2.38688183e+00,  1.74113989e+00],\n",
       "        [-2.72244382e+00,  1.46425307e+00],\n",
       "        [-2.47623610e+00,  1.67963028e+00],\n",
       "        [-2.87767720e+00,  1.33427751e+00],\n",
       "        [-3.42152047e+00,  1.43252373e+00],\n",
       "        [-3.26447892e+00,  1.21721482e+00],\n",
       "        [-3.39598227e+00,  9.84353185e-01],\n",
       "        [-3.75720596e+00,  1.11927533e+00],\n",
       "        [-3.67494750e+00,  1.27251041e+00],\n",
       "        [-3.86639309e+00,  6.43790483e-01],\n",
       "        [-3.74175954e+00,  4.03737664e-01],\n",
       "        [-3.91358352e+00,  3.42554808e-01],\n",
       "        [-4.10977173e+00,  1.69973135e-01],\n",
       "        [-4.22585869e+00,  2.87757874e-01],\n",
       "        [-4.38141346e+00,  1.23389959e-01],\n",
       "        [-4.36105442e+00,  2.86584377e-01],\n",
       "        [-4.55299139e+00, -3.98564577e-01],\n",
       "        [-4.36143494e+00, -6.92963600e-03],\n",
       "        [-5.24446869e+00,  2.93194532e-01],\n",
       "        [-4.80334473e+00, -1.12299442e-01],\n",
       "        [-4.66364717e+00, -6.02173805e-03],\n",
       "        [-4.17059040e+00, -1.29363537e-01],\n",
       "        [-4.55080318e+00, -6.43821001e-01],\n",
       "        [-4.67574406e+00, -1.92704439e-01],\n",
       "        [-4.98840237e+00, -6.89878464e-01],\n",
       "        [-5.20264196e+00, -8.16136360e-01],\n",
       "        [-5.01069546e+00, -9.05987978e-01],\n",
       "        [-4.68073845e+00, -1.05764294e+00],\n",
       "        [-4.79691362e+00, -1.13820553e+00],\n",
       "        [-5.31935120e+00, -6.49829865e-01],\n",
       "        [-4.85581064e+00, -2.60224581e-01],\n",
       "        [-4.69979763e+00, -7.71736026e-01],\n",
       "        [-4.66708374e+00, -4.67805147e-01],\n",
       "        [-4.34125328e+00, -1.12842929e+00],\n",
       "        [-4.51021099e+00, -7.46269226e-01],\n",
       "        [-4.63467455e+00, -9.28419590e-01],\n",
       "        [-4.64108133e+00, -1.10430825e+00],\n",
       "        [-4.98620462e+00, -1.08762932e+00],\n",
       "        [-5.30049419e+00, -6.97916508e-01],\n",
       "        [-5.36034679e+00, -1.29777551e+00],\n",
       "        [-5.25441551e+00, -9.89778042e-01],\n",
       "        [-5.38901615e+00, -7.99875498e-01],\n",
       "        [-5.31948185e+00, -1.26689458e+00],\n",
       "        [-5.04735279e+00, -1.49959242e+00],\n",
       "        [-5.70905924e+00, -1.47749555e+00],\n",
       "        [-5.95718956e+00, -1.06795251e+00],\n",
       "        [-5.87630129e+00, -1.17844748e+00],\n",
       "        [-5.76832533e+00, -1.31598210e+00],\n",
       "        [-5.43867302e+00, -1.77055871e+00],\n",
       "        [-5.94095278e+00, -1.41142142e+00],\n",
       "        [-5.74785519e+00, -1.52404070e+00]]], dtype=float32)"
      ]
     },
     "execution_count": 12,
     "metadata": {},
     "output_type": "execute_result"
    }
   ],
   "source": [
    "(decoded_traj.cpu().detach().numpy()[0] - decoded_traj.cpu().detach().numpy()[1])"
   ]
  },
  {
   "cell_type": "code",
   "execution_count": 13,
   "metadata": {},
   "outputs": [
    {
     "data": {
      "text/plain": [
       "array([[ 7.682982 ,  7.4990563,  7.170671 ,  6.798273 ,  6.668024 ,\n",
       "         6.319169 ,  5.9358726,  5.595133 ,  5.384145 ,  5.0993032,\n",
       "         4.960013 ,  4.605774 ,  4.463481 ,  3.8407476,  4.0211697,\n",
       "         3.2551434,  3.4085996,  3.0285277,  2.8041952,  2.9210815,\n",
       "         2.4153948,  2.4996498,  2.487    ,  2.4927187,  2.4230745,\n",
       "         2.112098 ,  2.2856908,  2.4189787,  2.598175 ,  2.5332537,\n",
       "         2.738768 ,  2.8611662,  3.465057 ,  3.164622 ,  3.9479537,\n",
       "         3.7897089,  3.858363 ,  4.2066736,  4.822422 ,  4.774897 ,\n",
       "         4.965336 ,  5.2574196,  5.4700384,  5.8171067,  6.156852 ,\n",
       "         6.6226816,  6.815665 ,  6.6958737,  7.6015797,  7.7922025,\n",
       "         8.049435 ,  8.019864 ,  8.078741 ,  8.835056 ,  9.233453 ,\n",
       "         9.043901 ,  9.286976 ,  9.6281395,  9.995745 ,  9.927849 ,\n",
       "        10.599181 , 10.417316 , 10.75481  , 11.10243  , 11.249419 ,\n",
       "        11.343521 , 11.454292 , 11.956039 , 11.915933 , 12.48103  ,\n",
       "        12.411339 , 12.56174  , 12.925528 , 13.148106 , 13.061591 ,\n",
       "        13.520701 , 13.77114  , 13.587126 , 13.715048 , 13.455905 ],\n",
       "       [ 7.6468043,  7.4143305,  7.32558  ,  6.661983 ,  6.711971 ,\n",
       "         6.4895763,  5.960008 ,  5.4183435,  5.4073114,  4.8792896,\n",
       "         4.382461 ,  4.156166 ,  3.6696713,  3.8510132,  3.149571 ,\n",
       "         3.1773937,  1.9408834,  2.2644236,  2.2264502,  1.6451521,\n",
       "         1.6099851,  1.4388499,  1.2033483,  1.765068 ,  1.2938806,\n",
       "         1.7566302,  2.005111 ,  2.0265503,  2.772952 ,  2.3529174,\n",
       "         3.0794094,  3.8918076,  3.7830071,  3.6062307,  4.1220675,\n",
       "         4.2446775,  5.03593  ,  5.641431 ,  5.2746563,  5.8704615,\n",
       "         5.426456 ,  5.899823 ,  7.219951 ,  6.6079054,  6.8492374,\n",
       "         7.6624866,  7.493047 ,  7.5839305,  8.370173 ,  8.785682 ,\n",
       "         8.912726 ,  9.181428 ,  9.665606 ,  9.648352 , 10.6160145,\n",
       "        11.282805 ,  9.01298  , 10.006219 , 10.286237 , 11.602968 ,\n",
       "        11.0518   , 11.054852 , 11.142425 , 11.692084 , 11.942373 ,\n",
       "        12.937066 , 12.979443 , 13.511355 , 12.870885 , 12.994176 ,\n",
       "        10.19659  , 11.587255 , 10.568836 ,  9.297328 ,  9.386908 ,\n",
       "         8.858826 ,  8.923122 ,  8.228234 ,  8.866724 ,  7.7784996],\n",
       "       [ 7.8551455,  7.4480343,  7.530702 ,  7.0643053,  6.450316 ,\n",
       "         6.3741746,  6.039416 ,  5.7647934,  5.7697873,  5.201797 ,\n",
       "         5.019575 ,  4.5911474,  4.530976 ,  4.5693398,  4.2939467,\n",
       "         3.8990564,  3.9269059,  3.8615172,  3.4731529,  3.3343544,\n",
       "         3.4395154,  3.244377 ,  3.3727262,  3.0938306,  3.3229487,\n",
       "         3.14985  ,  3.2520468,  2.9553568,  3.1792145,  2.9544497,\n",
       "         3.0912356,  2.9921403,  3.1719587,  3.7093027,  3.4840257,\n",
       "         3.5357668,  3.9203792,  3.889026 ,  3.9196253,  3.7634783,\n",
       "         3.928547 ,  4.113285 ,  4.235645 ,  4.3831506,  4.3704605,\n",
       "         4.570403 ,  4.36144  ,  5.252658 ,  4.8046575,  4.663651 ,\n",
       "         4.172596 ,  4.5961194,  4.6797132,  5.0358806,  5.2662663,\n",
       "         5.091943 ,  4.798742 ,  4.9301004,  5.358897 ,  4.8627787,\n",
       "         4.762738 ,  4.69047  ,  4.4855137,  4.5715337,  4.7267504,\n",
       "         4.7706532,  5.1034474,  5.3462443,  5.5152097,  5.3468256,\n",
       "         5.4480543,  5.4682636,  5.2654104,  5.8971477,  6.052159 ,\n",
       "         5.993301 ,  5.916535 ,  5.7196193,  6.106311 ,  5.9464726]],\n",
       "      dtype=float32)"
      ]
     },
     "execution_count": 13,
     "metadata": {},
     "output_type": "execute_result"
    }
   ],
   "source": [
    "np.linalg.norm(decoded_traj.cpu().detach().numpy()[0] - decoded_traj.cpu().detach().numpy()[1], axis = 2)"
   ]
  },
  {
   "cell_type": "code",
   "execution_count": 14,
   "metadata": {},
   "outputs": [
    {
     "data": {
      "text/plain": [
       "<tf.Tensor: shape=(71, 2), dtype=int64, numpy=\n",
       "array([[ 0, 13],\n",
       "       [ 0, 15],\n",
       "       [ 0, 16],\n",
       "       [ 0, 17],\n",
       "       [ 0, 18],\n",
       "       [ 0, 19],\n",
       "       [ 0, 20],\n",
       "       [ 0, 21],\n",
       "       [ 0, 22],\n",
       "       [ 0, 23],\n",
       "       [ 0, 24],\n",
       "       [ 0, 25],\n",
       "       [ 0, 26],\n",
       "       [ 0, 27],\n",
       "       [ 0, 28],\n",
       "       [ 0, 29],\n",
       "       [ 0, 30],\n",
       "       [ 0, 31],\n",
       "       [ 0, 32],\n",
       "       [ 0, 33],\n",
       "       [ 0, 34],\n",
       "       [ 0, 35],\n",
       "       [ 0, 36],\n",
       "       [ 1, 12],\n",
       "       [ 1, 13],\n",
       "       [ 1, 14],\n",
       "       [ 1, 15],\n",
       "       [ 1, 16],\n",
       "       [ 1, 17],\n",
       "       [ 1, 18],\n",
       "       [ 1, 19],\n",
       "       [ 1, 20],\n",
       "       [ 1, 21],\n",
       "       [ 1, 22],\n",
       "       [ 1, 23],\n",
       "       [ 1, 24],\n",
       "       [ 1, 25],\n",
       "       [ 1, 26],\n",
       "       [ 1, 27],\n",
       "       [ 1, 28],\n",
       "       [ 1, 29],\n",
       "       [ 1, 30],\n",
       "       [ 1, 31],\n",
       "       [ 1, 32],\n",
       "       [ 1, 33],\n",
       "       [ 2, 15],\n",
       "       [ 2, 16],\n",
       "       [ 2, 17],\n",
       "       [ 2, 18],\n",
       "       [ 2, 19],\n",
       "       [ 2, 20],\n",
       "       [ 2, 21],\n",
       "       [ 2, 22],\n",
       "       [ 2, 23],\n",
       "       [ 2, 24],\n",
       "       [ 2, 25],\n",
       "       [ 2, 26],\n",
       "       [ 2, 27],\n",
       "       [ 2, 28],\n",
       "       [ 2, 29],\n",
       "       [ 2, 30],\n",
       "       [ 2, 31],\n",
       "       [ 2, 32],\n",
       "       [ 2, 33],\n",
       "       [ 2, 34],\n",
       "       [ 2, 35],\n",
       "       [ 2, 36],\n",
       "       [ 2, 37],\n",
       "       [ 2, 38],\n",
       "       [ 2, 39],\n",
       "       [ 2, 40]])>"
      ]
     },
     "execution_count": 14,
     "metadata": {},
     "output_type": "execute_result"
    }
   ],
   "source": [
    "tf.where(np.linalg.norm(decoded_traj.cpu().detach().numpy()[0] - decoded_traj.cpu().detach().numpy()[1], axis = 2) < 4)"
   ]
  },
  {
   "cell_type": "code",
   "execution_count": null,
   "metadata": {},
   "outputs": [],
   "source": []
  },
  {
   "cell_type": "code",
   "execution_count": null,
   "metadata": {},
   "outputs": [],
   "source": []
  }
 ],
 "metadata": {
  "kernelspec": {
   "display_name": "ml-latest",
   "language": "python",
   "name": "ml-latest"
  },
  "language_info": {
   "codemirror_mode": {
    "name": "ipython",
    "version": 3
   },
   "file_extension": ".py",
   "mimetype": "text/x-python",
   "name": "python",
   "nbconvert_exporter": "python",
   "pygments_lexer": "ipython3",
   "version": "3.8.6"
  }
 },
 "nbformat": 4,
 "nbformat_minor": 4
}
