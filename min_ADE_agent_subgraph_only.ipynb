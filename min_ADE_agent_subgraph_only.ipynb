{
 "cells": [
  {
   "cell_type": "code",
   "execution_count": 1,
   "metadata": {},
   "outputs": [],
   "source": [
    "import os\n",
    "import sys\n",
    "\n",
    "\n",
    "import argparse\n",
    "import numpy as np\n",
    "\n",
    "\n",
    "import torch\n",
    "import torch.nn as nn\n",
    "from torch.utils.data import Dataset, DataLoader\n",
    "\n",
    "from tqdm import tqdm\n",
    "\n",
    "from utils.waymo_motion_dataset2 import waymo_motion_dataset, collate\n",
    "\n",
    "from utils.VectorNet import SubGraph, GNN\n",
    "from utils.MTP_loss import multi_mode_loss_L2\n",
    "from utils.Joint_metric import min_K_joint_ADE_metric\n",
    "from utils.Decoder3 import Decoder\n",
    "\n",
    "import math\n",
    "import os\n",
    "import uuid\n",
    "import time\n",
    "import torch\n",
    "\n",
    "from matplotlib import cm\n",
    "import matplotlib.animation as animation\n",
    "import matplotlib.pyplot as plt\n",
    "\n",
    "import numpy as np\n",
    "from IPython.display import HTML\n",
    "import itertools\n",
    "import tensorflow.compat.v1 as tf\n",
    "\n",
    "from google.protobuf import text_format\n",
    "from waymo_open_dataset.metrics.ops import py_metrics_ops\n",
    "from waymo_open_dataset.metrics.python import config_util_py as config_util\n",
    "from waymo_open_dataset.protos import motion_metrics_pb2\n"
   ]
  },
  {
   "cell_type": "code",
   "execution_count": 2,
   "metadata": {},
   "outputs": [
    {
     "name": "stdout",
     "output_type": "stream",
     "text": [
      "CUDA is supported\n"
     ]
    }
   ],
   "source": [
    "use_cuda = torch.cuda.is_available()\n",
    "if use_cuda:\n",
    "    device = torch.device(\"cuda\")\n",
    "    extras = {\"num_workers\": len(os.sched_getaffinity(0)), \"pin_memory\": True}\n",
    "    print(\"CUDA is supported\")\n",
    "else: # Otherwise, train on the CPU\n",
    "    device = torch.device(\"cpu\")\n",
    "    extras = {\"num_workers\": len(os.sched_getaffinity(0)), \"pin_memory\": False}\n",
    "    print(\"CUDA NOT supported\")"
   ]
  },
  {
   "cell_type": "code",
   "execution_count": 3,
   "metadata": {},
   "outputs": [],
   "source": [
    "train_path_ = '/datasets-2/waymo/uncompressed/tf_example/validation_interactive/'"
   ]
  },
  {
   "cell_type": "code",
   "execution_count": 4,
   "metadata": {},
   "outputs": [
    {
     "name": "stderr",
     "output_type": "stream",
     "text": [
      "\r",
      "  0%|          | 0/1 [00:00<?, ?it/s]"
     ]
    },
    {
     "ename": "InternalError",
     "evalue": "CUDA runtime implicit initialization on GPU:0 failed. Status: out of memory",
     "output_type": "error",
     "traceback": [
      "\u001b[0;31m\u001b[0m",
      "\u001b[0;31mInternalError\u001b[0mTraceback (most recent call last)",
      "\u001b[0;32m<ipython-input-4-1abcc7bc7ad5>\u001b[0m in \u001b[0;36m<module>\u001b[0;34m\u001b[0m\n\u001b[0;32m----> 1\u001b[0;31m train_dataset = waymo_motion_dataset(dataroot = train_path_,\n\u001b[0m\u001b[1;32m      2\u001b[0m                                          scene_list = range(25,26))\n\u001b[1;32m      3\u001b[0m train_loader = DataLoader(dataset = train_dataset,\n\u001b[1;32m      4\u001b[0m                           \u001b[0mbatch_size\u001b[0m \u001b[0;34m=\u001b[0m \u001b[0;36m1\u001b[0m\u001b[0;34m,\u001b[0m\u001b[0;34m\u001b[0m\u001b[0;34m\u001b[0m\u001b[0m\n\u001b[1;32m      5\u001b[0m                           \u001b[0mshuffle\u001b[0m \u001b[0;34m=\u001b[0m \u001b[0;32mTrue\u001b[0m\u001b[0;34m,\u001b[0m\u001b[0;34m\u001b[0m\u001b[0;34m\u001b[0m\u001b[0m\n",
      "\u001b[0;32m~/Sambaran/VectorNet_09_06_20_01/VecterNet-based-motion-prediction/utils/waymo_motion_dataset2.py\u001b[0m in \u001b[0;36m__init__\u001b[0;34m(self, dataroot, scene_list)\u001b[0m\n\u001b[1;32m    202\u001b[0m         \u001b[0mself\u001b[0m\u001b[0;34m.\u001b[0m\u001b[0mfeatures_description\u001b[0m\u001b[0;34m.\u001b[0m\u001b[0mupdate\u001b[0m\u001b[0;34m(\u001b[0m\u001b[0mtraffic_light_features\u001b[0m\u001b[0;34m)\u001b[0m\u001b[0;34m\u001b[0m\u001b[0;34m\u001b[0m\u001b[0m\n\u001b[1;32m    203\u001b[0m \u001b[0;34m\u001b[0m\u001b[0m\n\u001b[0;32m--> 204\u001b[0;31m         \u001b[0mself\u001b[0m\u001b[0;34m.\u001b[0m\u001b[0mdata\u001b[0m \u001b[0;34m=\u001b[0m \u001b[0;34m[\u001b[0m\u001b[0mself\u001b[0m\u001b[0;34m.\u001b[0m\u001b[0mextract_data\u001b[0m\u001b[0;34m(\u001b[0m\u001b[0mind\u001b[0m\u001b[0;34m)\u001b[0m \u001b[0;32mfor\u001b[0m \u001b[0mind\u001b[0m \u001b[0;32min\u001b[0m \u001b[0mtqdm\u001b[0m\u001b[0;34m(\u001b[0m\u001b[0mself\u001b[0m\u001b[0;34m.\u001b[0m\u001b[0mscene_list\u001b[0m\u001b[0;34m)\u001b[0m\u001b[0;34m]\u001b[0m\u001b[0;34m\u001b[0m\u001b[0;34m\u001b[0m\u001b[0m\n\u001b[0m\u001b[1;32m    205\u001b[0m \u001b[0;34m\u001b[0m\u001b[0m\n\u001b[1;32m    206\u001b[0m         \u001b[0mself\u001b[0m\u001b[0;34m.\u001b[0m\u001b[0mfilenames\u001b[0m \u001b[0;34m=\u001b[0m \u001b[0;34m[\u001b[0m\u001b[0mfilename\u001b[0m \u001b[0;32mfor\u001b[0m \u001b[0;34m(\u001b[0m\u001b[0mfilename\u001b[0m\u001b[0;34m,\u001b[0m \u001b[0mx\u001b[0m\u001b[0;34m)\u001b[0m \u001b[0;32min\u001b[0m \u001b[0mzip\u001b[0m\u001b[0;34m(\u001b[0m\u001b[0mself\u001b[0m\u001b[0;34m.\u001b[0m\u001b[0mfilenames\u001b[0m\u001b[0;34m,\u001b[0m \u001b[0mself\u001b[0m\u001b[0;34m.\u001b[0m\u001b[0mdata\u001b[0m\u001b[0;34m)\u001b[0m \u001b[0;32mif\u001b[0m \u001b[0mx\u001b[0m \u001b[0;32mis\u001b[0m \u001b[0;32mnot\u001b[0m \u001b[0;32mNone\u001b[0m\u001b[0;34m]\u001b[0m\u001b[0;34m\u001b[0m\u001b[0;34m\u001b[0m\u001b[0m\n",
      "\u001b[0;32m~/Sambaran/VectorNet_09_06_20_01/VecterNet-based-motion-prediction/utils/waymo_motion_dataset2.py\u001b[0m in \u001b[0;36m<listcomp>\u001b[0;34m(.0)\u001b[0m\n\u001b[1;32m    202\u001b[0m         \u001b[0mself\u001b[0m\u001b[0;34m.\u001b[0m\u001b[0mfeatures_description\u001b[0m\u001b[0;34m.\u001b[0m\u001b[0mupdate\u001b[0m\u001b[0;34m(\u001b[0m\u001b[0mtraffic_light_features\u001b[0m\u001b[0;34m)\u001b[0m\u001b[0;34m\u001b[0m\u001b[0;34m\u001b[0m\u001b[0m\n\u001b[1;32m    203\u001b[0m \u001b[0;34m\u001b[0m\u001b[0m\n\u001b[0;32m--> 204\u001b[0;31m         \u001b[0mself\u001b[0m\u001b[0;34m.\u001b[0m\u001b[0mdata\u001b[0m \u001b[0;34m=\u001b[0m \u001b[0;34m[\u001b[0m\u001b[0mself\u001b[0m\u001b[0;34m.\u001b[0m\u001b[0mextract_data\u001b[0m\u001b[0;34m(\u001b[0m\u001b[0mind\u001b[0m\u001b[0;34m)\u001b[0m \u001b[0;32mfor\u001b[0m \u001b[0mind\u001b[0m \u001b[0;32min\u001b[0m \u001b[0mtqdm\u001b[0m\u001b[0;34m(\u001b[0m\u001b[0mself\u001b[0m\u001b[0;34m.\u001b[0m\u001b[0mscene_list\u001b[0m\u001b[0;34m)\u001b[0m\u001b[0;34m]\u001b[0m\u001b[0;34m\u001b[0m\u001b[0;34m\u001b[0m\u001b[0m\n\u001b[0m\u001b[1;32m    205\u001b[0m \u001b[0;34m\u001b[0m\u001b[0m\n\u001b[1;32m    206\u001b[0m         \u001b[0mself\u001b[0m\u001b[0;34m.\u001b[0m\u001b[0mfilenames\u001b[0m \u001b[0;34m=\u001b[0m \u001b[0;34m[\u001b[0m\u001b[0mfilename\u001b[0m \u001b[0;32mfor\u001b[0m \u001b[0;34m(\u001b[0m\u001b[0mfilename\u001b[0m\u001b[0;34m,\u001b[0m \u001b[0mx\u001b[0m\u001b[0;34m)\u001b[0m \u001b[0;32min\u001b[0m \u001b[0mzip\u001b[0m\u001b[0;34m(\u001b[0m\u001b[0mself\u001b[0m\u001b[0;34m.\u001b[0m\u001b[0mfilenames\u001b[0m\u001b[0;34m,\u001b[0m \u001b[0mself\u001b[0m\u001b[0;34m.\u001b[0m\u001b[0mdata\u001b[0m\u001b[0;34m)\u001b[0m \u001b[0;32mif\u001b[0m \u001b[0mx\u001b[0m \u001b[0;32mis\u001b[0m \u001b[0;32mnot\u001b[0m \u001b[0;32mNone\u001b[0m\u001b[0;34m]\u001b[0m\u001b[0;34m\u001b[0m\u001b[0;34m\u001b[0m\u001b[0m\n",
      "\u001b[0;32m~/Sambaran/VectorNet_09_06_20_01/VecterNet-based-motion-prediction/utils/waymo_motion_dataset2.py\u001b[0m in \u001b[0;36mextract_data\u001b[0;34m(self, ind)\u001b[0m\n\u001b[1;32m    215\u001b[0m     \u001b[0;32mdef\u001b[0m \u001b[0mextract_data\u001b[0m\u001b[0;34m(\u001b[0m\u001b[0mself\u001b[0m\u001b[0;34m,\u001b[0m \u001b[0mind\u001b[0m\u001b[0;34m)\u001b[0m\u001b[0;34m:\u001b[0m\u001b[0;34m\u001b[0m\u001b[0;34m\u001b[0m\u001b[0m\n\u001b[1;32m    216\u001b[0m         \u001b[0mfilename\u001b[0m \u001b[0;34m=\u001b[0m \u001b[0mos\u001b[0m\u001b[0;34m.\u001b[0m\u001b[0mpath\u001b[0m\u001b[0;34m.\u001b[0m\u001b[0mjoin\u001b[0m\u001b[0;34m(\u001b[0m\u001b[0mself\u001b[0m\u001b[0;34m.\u001b[0m\u001b[0mdataroot\u001b[0m\u001b[0;34m,\u001b[0m \u001b[0mself\u001b[0m\u001b[0;34m.\u001b[0m\u001b[0mfilenames\u001b[0m\u001b[0;34m[\u001b[0m\u001b[0mind\u001b[0m\u001b[0;34m]\u001b[0m\u001b[0;34m)\u001b[0m\u001b[0;34m\u001b[0m\u001b[0;34m\u001b[0m\u001b[0m\n\u001b[0;32m--> 217\u001b[0;31m         \u001b[0mdataset\u001b[0m \u001b[0;34m=\u001b[0m \u001b[0mtf\u001b[0m\u001b[0;34m.\u001b[0m\u001b[0mdata\u001b[0m\u001b[0;34m.\u001b[0m\u001b[0mTFRecordDataset\u001b[0m\u001b[0;34m(\u001b[0m\u001b[0mfilename\u001b[0m\u001b[0;34m,\u001b[0m \u001b[0mcompression_type\u001b[0m\u001b[0;34m=\u001b[0m\u001b[0;34m''\u001b[0m\u001b[0;34m)\u001b[0m\u001b[0;34m\u001b[0m\u001b[0;34m\u001b[0m\u001b[0m\n\u001b[0m\u001b[1;32m    218\u001b[0m         \u001b[0mdata\u001b[0m \u001b[0;34m=\u001b[0m \u001b[0mnext\u001b[0m\u001b[0;34m(\u001b[0m\u001b[0mdataset\u001b[0m\u001b[0;34m.\u001b[0m\u001b[0mas_numpy_iterator\u001b[0m\u001b[0;34m(\u001b[0m\u001b[0;34m)\u001b[0m\u001b[0;34m)\u001b[0m\u001b[0;34m\u001b[0m\u001b[0;34m\u001b[0m\u001b[0m\n\u001b[1;32m    219\u001b[0m         \u001b[0mparsed\u001b[0m \u001b[0;34m=\u001b[0m \u001b[0mtf\u001b[0m\u001b[0;34m.\u001b[0m\u001b[0mio\u001b[0m\u001b[0;34m.\u001b[0m\u001b[0mparse_single_example\u001b[0m\u001b[0;34m(\u001b[0m\u001b[0mdata\u001b[0m\u001b[0;34m,\u001b[0m \u001b[0mself\u001b[0m\u001b[0;34m.\u001b[0m\u001b[0mfeatures_description\u001b[0m\u001b[0;34m)\u001b[0m\u001b[0;34m\u001b[0m\u001b[0;34m\u001b[0m\u001b[0m\n",
      "\u001b[0;32m~/.local/lib/python3.8/site-packages/tensorflow/python/data/ops/readers.py\u001b[0m in \u001b[0;36m__init__\u001b[0;34m(self, filenames, compression_type, buffer_size, num_parallel_reads)\u001b[0m\n\u001b[1;32m    318\u001b[0m       \u001b[0mValueError\u001b[0m\u001b[0;34m:\u001b[0m \u001b[0mIf\u001b[0m \u001b[0many\u001b[0m \u001b[0margument\u001b[0m \u001b[0mdoes\u001b[0m \u001b[0;32mnot\u001b[0m \u001b[0mhave\u001b[0m \u001b[0mthe\u001b[0m \u001b[0mexpected\u001b[0m \u001b[0mshape\u001b[0m\u001b[0;34m.\u001b[0m\u001b[0;34m\u001b[0m\u001b[0;34m\u001b[0m\u001b[0m\n\u001b[1;32m    319\u001b[0m     \"\"\"\n\u001b[0;32m--> 320\u001b[0;31m     \u001b[0mfilenames\u001b[0m \u001b[0;34m=\u001b[0m \u001b[0m_create_or_validate_filenames_dataset\u001b[0m\u001b[0;34m(\u001b[0m\u001b[0mfilenames\u001b[0m\u001b[0;34m)\u001b[0m\u001b[0;34m\u001b[0m\u001b[0;34m\u001b[0m\u001b[0m\n\u001b[0m\u001b[1;32m    321\u001b[0m \u001b[0;34m\u001b[0m\u001b[0m\n\u001b[1;32m    322\u001b[0m     \u001b[0mself\u001b[0m\u001b[0;34m.\u001b[0m\u001b[0m_filenames\u001b[0m \u001b[0;34m=\u001b[0m \u001b[0mfilenames\u001b[0m\u001b[0;34m\u001b[0m\u001b[0;34m\u001b[0m\u001b[0m\n",
      "\u001b[0;32m~/.local/lib/python3.8/site-packages/tensorflow/python/data/ops/readers.py\u001b[0m in \u001b[0;36m_create_or_validate_filenames_dataset\u001b[0;34m(filenames)\u001b[0m\n\u001b[1;32m     53\u001b[0m           \"elements.\")\n\u001b[1;32m     54\u001b[0m   \u001b[0;32melse\u001b[0m\u001b[0;34m:\u001b[0m\u001b[0;34m\u001b[0m\u001b[0;34m\u001b[0m\u001b[0m\n\u001b[0;32m---> 55\u001b[0;31m     \u001b[0mfilenames\u001b[0m \u001b[0;34m=\u001b[0m \u001b[0mops\u001b[0m\u001b[0;34m.\u001b[0m\u001b[0mconvert_to_tensor\u001b[0m\u001b[0;34m(\u001b[0m\u001b[0mfilenames\u001b[0m\u001b[0;34m,\u001b[0m \u001b[0mdtype_hint\u001b[0m\u001b[0;34m=\u001b[0m\u001b[0mdtypes\u001b[0m\u001b[0;34m.\u001b[0m\u001b[0mstring\u001b[0m\u001b[0;34m)\u001b[0m\u001b[0;34m\u001b[0m\u001b[0;34m\u001b[0m\u001b[0m\n\u001b[0m\u001b[1;32m     56\u001b[0m     \u001b[0;32mif\u001b[0m \u001b[0mfilenames\u001b[0m\u001b[0;34m.\u001b[0m\u001b[0mdtype\u001b[0m \u001b[0;34m!=\u001b[0m \u001b[0mdtypes\u001b[0m\u001b[0;34m.\u001b[0m\u001b[0mstring\u001b[0m\u001b[0;34m:\u001b[0m\u001b[0;34m\u001b[0m\u001b[0;34m\u001b[0m\u001b[0m\n\u001b[1;32m     57\u001b[0m       raise TypeError(\n",
      "\u001b[0;32m~/.local/lib/python3.8/site-packages/tensorflow/python/framework/ops.py\u001b[0m in \u001b[0;36mconvert_to_tensor\u001b[0;34m(value, dtype, name, as_ref, preferred_dtype, dtype_hint, ctx, accepted_result_types)\u001b[0m\n\u001b[1;32m   1484\u001b[0m     \u001b[0;32mif\u001b[0m \u001b[0mdtype\u001b[0m \u001b[0;32mis\u001b[0m \u001b[0;32mNone\u001b[0m \u001b[0;32mand\u001b[0m \u001b[0mpreferred_dtype\u001b[0m \u001b[0;32mis\u001b[0m \u001b[0;32mnot\u001b[0m \u001b[0;32mNone\u001b[0m\u001b[0;34m:\u001b[0m\u001b[0;34m\u001b[0m\u001b[0;34m\u001b[0m\u001b[0m\n\u001b[1;32m   1485\u001b[0m       \u001b[0;32mtry\u001b[0m\u001b[0;34m:\u001b[0m\u001b[0;34m\u001b[0m\u001b[0;34m\u001b[0m\u001b[0m\n\u001b[0;32m-> 1486\u001b[0;31m         ret = conversion_func(\n\u001b[0m\u001b[1;32m   1487\u001b[0m             value, dtype=preferred_dtype, name=name, as_ref=as_ref)\n\u001b[1;32m   1488\u001b[0m       \u001b[0;32mexcept\u001b[0m \u001b[0;34m(\u001b[0m\u001b[0mTypeError\u001b[0m\u001b[0;34m,\u001b[0m \u001b[0mValueError\u001b[0m\u001b[0;34m)\u001b[0m\u001b[0;34m:\u001b[0m\u001b[0;34m\u001b[0m\u001b[0;34m\u001b[0m\u001b[0m\n",
      "\u001b[0;32m~/.local/lib/python3.8/site-packages/tensorflow/python/framework/constant_op.py\u001b[0m in \u001b[0;36m_constant_tensor_conversion_function\u001b[0;34m(v, dtype, name, as_ref)\u001b[0m\n\u001b[1;32m    336\u001b[0m                                          as_ref=False):\n\u001b[1;32m    337\u001b[0m   \u001b[0m_\u001b[0m \u001b[0;34m=\u001b[0m \u001b[0mas_ref\u001b[0m\u001b[0;34m\u001b[0m\u001b[0;34m\u001b[0m\u001b[0m\n\u001b[0;32m--> 338\u001b[0;31m   \u001b[0;32mreturn\u001b[0m \u001b[0mconstant\u001b[0m\u001b[0;34m(\u001b[0m\u001b[0mv\u001b[0m\u001b[0;34m,\u001b[0m \u001b[0mdtype\u001b[0m\u001b[0;34m=\u001b[0m\u001b[0mdtype\u001b[0m\u001b[0;34m,\u001b[0m \u001b[0mname\u001b[0m\u001b[0;34m=\u001b[0m\u001b[0mname\u001b[0m\u001b[0;34m)\u001b[0m\u001b[0;34m\u001b[0m\u001b[0;34m\u001b[0m\u001b[0m\n\u001b[0m\u001b[1;32m    339\u001b[0m \u001b[0;34m\u001b[0m\u001b[0m\n\u001b[1;32m    340\u001b[0m \u001b[0;34m\u001b[0m\u001b[0m\n",
      "\u001b[0;32m~/.local/lib/python3.8/site-packages/tensorflow/python/framework/constant_op.py\u001b[0m in \u001b[0;36mconstant\u001b[0;34m(value, dtype, shape, name)\u001b[0m\n\u001b[1;32m    261\u001b[0m     \u001b[0mValueError\u001b[0m\u001b[0;34m:\u001b[0m \u001b[0;32mif\u001b[0m \u001b[0mcalled\u001b[0m \u001b[0mon\u001b[0m \u001b[0ma\u001b[0m \u001b[0msymbolic\u001b[0m \u001b[0mtensor\u001b[0m\u001b[0;34m.\u001b[0m\u001b[0;34m\u001b[0m\u001b[0;34m\u001b[0m\u001b[0m\n\u001b[1;32m    262\u001b[0m   \"\"\"\n\u001b[0;32m--> 263\u001b[0;31m   return _constant_impl(value, dtype, shape, name, verify_shape=False,\n\u001b[0m\u001b[1;32m    264\u001b[0m                         allow_broadcast=True)\n\u001b[1;32m    265\u001b[0m \u001b[0;34m\u001b[0m\u001b[0m\n",
      "\u001b[0;32m~/.local/lib/python3.8/site-packages/tensorflow/python/framework/constant_op.py\u001b[0m in \u001b[0;36m_constant_impl\u001b[0;34m(value, dtype, shape, name, verify_shape, allow_broadcast)\u001b[0m\n\u001b[1;32m    273\u001b[0m       \u001b[0;32mwith\u001b[0m \u001b[0mtrace\u001b[0m\u001b[0;34m.\u001b[0m\u001b[0mTrace\u001b[0m\u001b[0;34m(\u001b[0m\u001b[0;34m\"tf.constant\"\u001b[0m\u001b[0;34m)\u001b[0m\u001b[0;34m:\u001b[0m\u001b[0;34m\u001b[0m\u001b[0;34m\u001b[0m\u001b[0m\n\u001b[1;32m    274\u001b[0m         \u001b[0;32mreturn\u001b[0m \u001b[0m_constant_eager_impl\u001b[0m\u001b[0;34m(\u001b[0m\u001b[0mctx\u001b[0m\u001b[0;34m,\u001b[0m \u001b[0mvalue\u001b[0m\u001b[0;34m,\u001b[0m \u001b[0mdtype\u001b[0m\u001b[0;34m,\u001b[0m \u001b[0mshape\u001b[0m\u001b[0;34m,\u001b[0m \u001b[0mverify_shape\u001b[0m\u001b[0;34m)\u001b[0m\u001b[0;34m\u001b[0m\u001b[0;34m\u001b[0m\u001b[0m\n\u001b[0;32m--> 275\u001b[0;31m     \u001b[0;32mreturn\u001b[0m \u001b[0m_constant_eager_impl\u001b[0m\u001b[0;34m(\u001b[0m\u001b[0mctx\u001b[0m\u001b[0;34m,\u001b[0m \u001b[0mvalue\u001b[0m\u001b[0;34m,\u001b[0m \u001b[0mdtype\u001b[0m\u001b[0;34m,\u001b[0m \u001b[0mshape\u001b[0m\u001b[0;34m,\u001b[0m \u001b[0mverify_shape\u001b[0m\u001b[0;34m)\u001b[0m\u001b[0;34m\u001b[0m\u001b[0;34m\u001b[0m\u001b[0m\n\u001b[0m\u001b[1;32m    276\u001b[0m \u001b[0;34m\u001b[0m\u001b[0m\n\u001b[1;32m    277\u001b[0m   \u001b[0mg\u001b[0m \u001b[0;34m=\u001b[0m \u001b[0mops\u001b[0m\u001b[0;34m.\u001b[0m\u001b[0mget_default_graph\u001b[0m\u001b[0;34m(\u001b[0m\u001b[0;34m)\u001b[0m\u001b[0;34m\u001b[0m\u001b[0;34m\u001b[0m\u001b[0m\n",
      "\u001b[0;32m~/.local/lib/python3.8/site-packages/tensorflow/python/framework/constant_op.py\u001b[0m in \u001b[0;36m_constant_eager_impl\u001b[0;34m(ctx, value, dtype, shape, verify_shape)\u001b[0m\n\u001b[1;32m    298\u001b[0m \u001b[0;32mdef\u001b[0m \u001b[0m_constant_eager_impl\u001b[0m\u001b[0;34m(\u001b[0m\u001b[0mctx\u001b[0m\u001b[0;34m,\u001b[0m \u001b[0mvalue\u001b[0m\u001b[0;34m,\u001b[0m \u001b[0mdtype\u001b[0m\u001b[0;34m,\u001b[0m \u001b[0mshape\u001b[0m\u001b[0;34m,\u001b[0m \u001b[0mverify_shape\u001b[0m\u001b[0;34m)\u001b[0m\u001b[0;34m:\u001b[0m\u001b[0;34m\u001b[0m\u001b[0;34m\u001b[0m\u001b[0m\n\u001b[1;32m    299\u001b[0m   \u001b[0;34m\"\"\"Implementation of eager constant.\"\"\"\u001b[0m\u001b[0;34m\u001b[0m\u001b[0;34m\u001b[0m\u001b[0m\n\u001b[0;32m--> 300\u001b[0;31m   \u001b[0mt\u001b[0m \u001b[0;34m=\u001b[0m \u001b[0mconvert_to_eager_tensor\u001b[0m\u001b[0;34m(\u001b[0m\u001b[0mvalue\u001b[0m\u001b[0;34m,\u001b[0m \u001b[0mctx\u001b[0m\u001b[0;34m,\u001b[0m \u001b[0mdtype\u001b[0m\u001b[0;34m)\u001b[0m\u001b[0;34m\u001b[0m\u001b[0;34m\u001b[0m\u001b[0m\n\u001b[0m\u001b[1;32m    301\u001b[0m   \u001b[0;32mif\u001b[0m \u001b[0mshape\u001b[0m \u001b[0;32mis\u001b[0m \u001b[0;32mNone\u001b[0m\u001b[0;34m:\u001b[0m\u001b[0;34m\u001b[0m\u001b[0;34m\u001b[0m\u001b[0m\n\u001b[1;32m    302\u001b[0m     \u001b[0;32mreturn\u001b[0m \u001b[0mt\u001b[0m\u001b[0;34m\u001b[0m\u001b[0;34m\u001b[0m\u001b[0m\n",
      "\u001b[0;32m~/.local/lib/python3.8/site-packages/tensorflow/python/framework/constant_op.py\u001b[0m in \u001b[0;36mconvert_to_eager_tensor\u001b[0;34m(value, ctx, dtype)\u001b[0m\n\u001b[1;32m     95\u001b[0m     \u001b[0;32mexcept\u001b[0m \u001b[0mAttributeError\u001b[0m\u001b[0;34m:\u001b[0m\u001b[0;34m\u001b[0m\u001b[0;34m\u001b[0m\u001b[0m\n\u001b[1;32m     96\u001b[0m       \u001b[0mdtype\u001b[0m \u001b[0;34m=\u001b[0m \u001b[0mdtypes\u001b[0m\u001b[0;34m.\u001b[0m\u001b[0mas_dtype\u001b[0m\u001b[0;34m(\u001b[0m\u001b[0mdtype\u001b[0m\u001b[0;34m)\u001b[0m\u001b[0;34m.\u001b[0m\u001b[0mas_datatype_enum\u001b[0m\u001b[0;34m\u001b[0m\u001b[0;34m\u001b[0m\u001b[0m\n\u001b[0;32m---> 97\u001b[0;31m   \u001b[0mctx\u001b[0m\u001b[0;34m.\u001b[0m\u001b[0mensure_initialized\u001b[0m\u001b[0;34m(\u001b[0m\u001b[0;34m)\u001b[0m\u001b[0;34m\u001b[0m\u001b[0;34m\u001b[0m\u001b[0m\n\u001b[0m\u001b[1;32m     98\u001b[0m   \u001b[0;32mreturn\u001b[0m \u001b[0mops\u001b[0m\u001b[0;34m.\u001b[0m\u001b[0mEagerTensor\u001b[0m\u001b[0;34m(\u001b[0m\u001b[0mvalue\u001b[0m\u001b[0;34m,\u001b[0m \u001b[0mctx\u001b[0m\u001b[0;34m.\u001b[0m\u001b[0mdevice_name\u001b[0m\u001b[0;34m,\u001b[0m \u001b[0mdtype\u001b[0m\u001b[0;34m)\u001b[0m\u001b[0;34m\u001b[0m\u001b[0;34m\u001b[0m\u001b[0m\n\u001b[1;32m     99\u001b[0m \u001b[0;34m\u001b[0m\u001b[0m\n",
      "\u001b[0;32m~/.local/lib/python3.8/site-packages/tensorflow/python/eager/context.py\u001b[0m in \u001b[0;36mensure_initialized\u001b[0;34m(self)\u001b[0m\n\u001b[1;32m    537\u001b[0m         \u001b[0;32mif\u001b[0m \u001b[0mself\u001b[0m\u001b[0;34m.\u001b[0m\u001b[0m_use_tfrt\u001b[0m \u001b[0;32mis\u001b[0m \u001b[0;32mnot\u001b[0m \u001b[0;32mNone\u001b[0m\u001b[0;34m:\u001b[0m\u001b[0;34m\u001b[0m\u001b[0;34m\u001b[0m\u001b[0m\n\u001b[1;32m    538\u001b[0m           \u001b[0mpywrap_tfe\u001b[0m\u001b[0;34m.\u001b[0m\u001b[0mTFE_ContextOptionsSetTfrt\u001b[0m\u001b[0;34m(\u001b[0m\u001b[0mopts\u001b[0m\u001b[0;34m,\u001b[0m \u001b[0mself\u001b[0m\u001b[0;34m.\u001b[0m\u001b[0m_use_tfrt\u001b[0m\u001b[0;34m)\u001b[0m\u001b[0;34m\u001b[0m\u001b[0;34m\u001b[0m\u001b[0m\n\u001b[0;32m--> 539\u001b[0;31m         \u001b[0mcontext_handle\u001b[0m \u001b[0;34m=\u001b[0m \u001b[0mpywrap_tfe\u001b[0m\u001b[0;34m.\u001b[0m\u001b[0mTFE_NewContext\u001b[0m\u001b[0;34m(\u001b[0m\u001b[0mopts\u001b[0m\u001b[0;34m)\u001b[0m\u001b[0;34m\u001b[0m\u001b[0;34m\u001b[0m\u001b[0m\n\u001b[0m\u001b[1;32m    540\u001b[0m       \u001b[0;32mfinally\u001b[0m\u001b[0;34m:\u001b[0m\u001b[0;34m\u001b[0m\u001b[0;34m\u001b[0m\u001b[0m\n\u001b[1;32m    541\u001b[0m         \u001b[0mpywrap_tfe\u001b[0m\u001b[0;34m.\u001b[0m\u001b[0mTFE_DeleteContextOptions\u001b[0m\u001b[0;34m(\u001b[0m\u001b[0mopts\u001b[0m\u001b[0;34m)\u001b[0m\u001b[0;34m\u001b[0m\u001b[0;34m\u001b[0m\u001b[0m\n",
      "\u001b[0;31mInternalError\u001b[0m: CUDA runtime implicit initialization on GPU:0 failed. Status: out of memory"
     ]
    }
   ],
   "source": [
    "train_dataset = waymo_motion_dataset(dataroot = train_path_,\n",
    "                                         scene_list = range(25,26))\n",
    "train_loader = DataLoader(dataset = train_dataset,\n",
    "                          batch_size = 1,\n",
    "                          shuffle = True,\n",
    "                          collate_fn = collate,\n",
    "                          num_workers = 8,\n",
    "                          pin_memory = extras['pin_memory'])"
   ]
  },
  {
   "cell_type": "code",
   "execution_count": 8,
   "metadata": {},
   "outputs": [
    {
     "data": {
      "text/plain": [
       "<All keys matched successfully>"
      ]
     },
     "execution_count": 8,
     "metadata": {},
     "output_type": "execute_result"
    }
   ],
   "source": [
    "\n",
    "# Define subgraph propagation networks\n",
    "N_hidden = 64\n",
    "# Agent vector is 9\n",
    "# [x, y, z, one-hot-type (5), id]\n",
    "agent_subgraph = SubGraph(8, N_hidden)\n",
    "# Roadmap vector is 27\n",
    "# [x, y, z, dir_x, dir_y, dir_z, one-hot-type (20), id]\n",
    "roadmap_subgraph = SubGraph(26, N_hidden)\n",
    "# Define global interaction graph\n",
    "\n",
    "# Define decoder\n",
    "N_modes = 3\n",
    "T = 80\n",
    "decoder = Decoder(N_hidden + 5, N_modes, T)\n",
    "agent_subgraph = agent_subgraph.to(device)\n",
    "roadmap_subgraph = roadmap_subgraph.to(device)\n",
    "decoder = decoder.to(device)\n",
    "\n",
    "model = torch.load('/home/sghosal/working_models/model_agent_subraph_only.pt')\n",
    "agent_subgraph.load_state_dict(model['agent_subgraph'])\n",
    "decoder.load_state_dict(model['decoder'])"
   ]
  },
  {
   "cell_type": "code",
   "execution_count": 9,
   "metadata": {},
   "outputs": [
    {
     "name": "stderr",
     "output_type": "stream",
     "text": [
      "100%|██████████| 150/150 [00:06<00:00, 23.65it/s]"
     ]
    },
    {
     "name": "stdout",
     "output_type": "stream",
     "text": [
      "Epoch Loss: tensor([9.2289], device='cuda:0', grad_fn=<DivBackward0>)\n"
     ]
    },
    {
     "name": "stderr",
     "output_type": "stream",
     "text": [
      "\n"
     ]
    }
   ],
   "source": [
    "Loss = 0\n",
    "\n",
    "for minibatch_count, data in enumerate(tqdm(train_loader)):\n",
    "\n",
    "    agents_polylines, agents_polylines_mask, \\\n",
    "    roadgraph_polylines, roadgraph_polylines_mask, \\\n",
    "    targets, targets_mask,\\\n",
    "    tracks_to_predict, objects_of_interest,\\\n",
    "    agents_motion = data\n",
    "\n",
    "    batch_size, num_agents, num_steps, dim_agent_vec = agents_polylines.shape\n",
    "    _, num_max_roads, num_max_road_length, dim_road_vec = roadgraph_polylines.shape\n",
    "\n",
    "    agents_polylines, agents_polylines_mask = agents_polylines.to(device), agents_polylines_mask.to(device)\n",
    "    roadgraph_polylines, roadgraph_polylines_mask = roadgraph_polylines.to(device), roadgraph_polylines_mask.to(device)\n",
    "    targets, targets_mask = targets.to(device), targets_mask.to(device)\n",
    "    agents_motion = agents_motion.to(device)\n",
    "\n",
    "    agent_polyline_features = agent_subgraph(agents_polylines[:, :, :, :8],\n",
    "                                             agents_polylines_mask,\n",
    "                                             agents_polylines.shape[1], agents_polylines.shape[2])\n",
    "    '''\n",
    "    roadgraph_polyline_features = roadmap_subgraph(roadgraph_polylines[:, :, :, :26], \n",
    "                                                   roadgraph_polylines_mask,\n",
    "                                                   roadgraph_polylines.shape[1], roadgraph_polylines.shape[2])\n",
    "    '''\n",
    "\n",
    "    agent_feature_mask = torch.any(agents_polylines_mask, dim = 2)\n",
    "    #roadgraph_feature_mask = torch.any(roadgraph_polylines_mask, dim = 2)\n",
    "\n",
    "    graph_output = agent_polyline_features\n",
    "    loss = 0\n",
    "\n",
    "    # Decode and compute loss scene by scene\n",
    "    for s in range(batch_size):\n",
    "        agent_inds = torch.nonzero((objects_of_interest == 1)[s,:], as_tuple=True)[0]\n",
    "        num_tracks_to_predict = agent_inds.shape[0]\n",
    "\n",
    "#                 for ind in agent_inds:\n",
    "# #                     target_features = agent_polyline_features[s, [ind.item()], :]\n",
    "#                     target_features = torch.cat([agent_polyline_features[s, [ind.item()], :], \n",
    "#                                                  agents_motion[s, [ind.item()], :]], dim = 1)\n",
    "#     #                 target_features = torch.cat([graph_output[s,agent_inds,:], \n",
    "#     #                                              agent_polyline_features[s, agent_inds, :]], dim = 1)\n",
    "#     #                 target_features = graph_output[s, agent_inds, :]\n",
    "#     #                 target_features = torch.cat(trainable_params = list(agent_subgraph.parameters()) \\\n",
    "#     #                                              agents_polylines[s, agent_inds, 0, : 2],\n",
    "#     #                                              agents_motion[s, agent_inds, :]], dim = 1)\n",
    "#                     decoded_traj, decoded_probs = decoder(target_features)\n",
    "#                     ground_truth = targets[s, [ind.item()], :, :2]\n",
    "\n",
    "#                     pos_loss, log_loss, pos_loss_10 = multi_mode_loss_L2(decoded_traj, decoded_probs, ground_truth)\n",
    "#                     loss = loss + pos_loss + log_loss\n",
    "#                     pos_loss_total += pos_loss\n",
    "#                     pos_loss_10_total += pos_loss_10\n",
    "\n",
    "#                 target_features = agent_polyline_features[s, agent_inds, :]\n",
    "#                 target_features = torch.cat([agent_polyline_features[s, agent_inds, :], \n",
    "#                                              agents_motion[s, agent_inds, :]], dim = 1)\n",
    "#                 target_features = torch.cat([agent_polyline_features[s, agent_inds, :], \n",
    "#                                              agents_polylines[s, agent_inds, 0, : 2],\n",
    "#                                              agents_motion[s, agent_inds, :]], dim = 1)\n",
    "#                target_features = torch.cat([graph_output[s,agent_inds,:], \n",
    "#                                              agent_polyline_features[s, agent_inds, :]], dim = 1)\n",
    "#                target_features = graph_output[s, agent_inds, :]\n",
    "        target_features = torch.cat([graph_output[s, agent_inds, :], \n",
    "                                      agents_polylines[s, agent_inds, 0, : 2],\n",
    "                                      agents_motion[s, agent_inds, :]], dim = 1)\n",
    "        decoded_traj, decoded_probs = decoder(target_features)\n",
    "        ground_truth = targets[s,agent_inds,:,0:2]\n",
    "\n",
    "        loss,entropy_loss = multi_mode_loss_L2(decoded_traj, decoded_probs, ground_truth)\n",
    "        loss = loss + entropy_loss\n",
    "\n",
    "\n",
    "\n",
    "    loss = loss / batch_size / num_tracks_to_predict\n",
    "\n",
    "\n",
    "    Loss+=loss\n",
    "print('Epoch Loss: {}'.format(Loss / (len(train_dataset))))\n"
   ]
  },
  {
   "cell_type": "code",
   "execution_count": null,
   "metadata": {
    "scrolled": false
   },
   "outputs": [],
   "source": []
  },
  {
   "cell_type": "code",
   "execution_count": 26,
   "metadata": {},
   "outputs": [
    {
     "name": "stdout",
     "output_type": "stream",
     "text": [
      "1\n"
     ]
    }
   ],
   "source": [
    "mode = np.argmax(decoded_probs.cpu().detach().numpy())\n",
    "print(mode)"
   ]
  },
  {
   "cell_type": "code",
   "execution_count": 27,
   "metadata": {
    "scrolled": false
   },
   "outputs": [
    {
     "name": "stdout",
     "output_type": "stream",
     "text": [
      "tensor([[-1.7222e+00, -1.1274e+01, -1.9827e+00, -1.1492e+01],\n",
      "        [-1.6374e+00, -1.0149e+01, -1.9119e+00, -1.0371e+01],\n",
      "        [-1.4735e+00, -9.0687e+00, -1.8516e+00, -9.2564e+00],\n",
      "        [-1.4773e+00, -7.9067e+00, -1.7891e+00, -8.1295e+00],\n",
      "        [-1.4442e+00, -6.8227e+00, -1.7285e+00, -7.0071e+00],\n",
      "        [-1.3027e+00, -5.7054e+00, -1.6846e+00, -5.8884e+00],\n",
      "        [-1.3217e+00, -4.5661e+00, -1.6357e+00, -4.7645e+00],\n",
      "        [-1.1658e+00, -3.5283e+00, -1.5896e+00, -3.6365e+00],\n",
      "        [-9.8606e-01, -2.4277e+00, -1.5513e+00, -2.5079e+00],\n",
      "        [-9.5834e-01, -1.3880e+00, -1.5122e+00, -1.3864e+00],\n",
      "        [-8.7166e-01, -1.9628e-01, -1.4751e+00, -2.8394e-01],\n",
      "        [-7.7262e-01,  7.0305e-01, -1.4373e+00,  8.3124e-01],\n",
      "        [-6.7586e-01,  1.7563e+00, -1.4026e+00,  1.9531e+00],\n",
      "        [-6.0425e-01,  2.7602e+00, -1.3740e+00,  3.0754e+00],\n",
      "        [-5.1949e-01,  3.8552e+00, -1.3403e+00,  4.2026e+00],\n",
      "        [-4.5266e-01,  4.8162e+00, -1.3086e+00,  5.3450e+00],\n",
      "        [-3.1623e-01,  5.7333e+00, -1.2832e+00,  6.5024e+00],\n",
      "        [-2.4589e-01,  6.6532e+00, -1.2517e+00,  7.6403e+00],\n",
      "        [-3.4927e-01,  7.6206e+00, -1.2256e+00,  8.7787e+00],\n",
      "        [-1.4914e-01,  8.3559e+00, -1.1982e+00,  9.9326e+00],\n",
      "        [-2.8199e-01,  9.4225e+00, -1.1758e+00,  1.1070e+01],\n",
      "        [-1.8666e-01,  1.0149e+01, -1.1492e+00,  1.2256e+01],\n",
      "        [-3.7337e-02,  1.0795e+01, -1.1250e+00,  1.3429e+01],\n",
      "        [-5.3919e-02,  1.1621e+01, -1.1033e+00,  1.4597e+01],\n",
      "        [ 5.8331e-03,  1.2466e+01, -1.0811e+00,  1.5776e+01],\n",
      "        [ 7.4218e-02,  1.3204e+01, -1.0588e+00,  1.6953e+01],\n",
      "        [ 9.7370e-02,  1.3971e+01, -1.0393e+00,  1.8134e+01],\n",
      "        [ 2.2127e-01,  1.4677e+01, -1.0227e+00,  1.9317e+01],\n",
      "        [ 3.4923e-01,  1.5384e+01, -1.0073e+00,  2.0484e+01],\n",
      "        [ 2.4916e-01,  1.5995e+01, -9.8730e-01,  2.1665e+01],\n",
      "        [ 3.4294e-01,  1.6801e+01, -9.6973e-01,  2.2839e+01],\n",
      "        [ 3.4903e-01,  1.7324e+01, -9.6118e-01,  2.4011e+01],\n",
      "        [ 3.0831e-01,  1.8051e+01, -9.5020e-01,  2.5174e+01],\n",
      "        [ 3.9933e-01,  1.8709e+01, -9.3774e-01,  2.6337e+01],\n",
      "        [ 4.7397e-01,  1.9228e+01, -9.2773e-01,  2.7490e+01],\n",
      "        [ 4.9406e-01,  1.9999e+01, -9.1919e-01,  2.8630e+01],\n",
      "        [ 5.6032e-01,  2.0473e+01, -9.0918e-01,  2.9742e+01],\n",
      "        [ 5.8683e-01,  2.0770e+01, -8.9893e-01,  3.0833e+01],\n",
      "        [ 6.8965e-01,  2.1430e+01, -8.9282e-01,  3.1887e+01],\n",
      "        [ 6.9853e-01,  2.2214e+01, -8.8281e-01,  3.2953e+01],\n",
      "        [ 9.1161e-01,  2.2708e+01, -8.7280e-01,  3.3976e+01],\n",
      "        [ 1.0198e+00,  2.3217e+01, -8.5938e-01,  3.4975e+01],\n",
      "        [ 1.1330e+00,  2.3804e+01, -8.5181e-01,  3.5945e+01],\n",
      "        [ 1.3623e+00,  2.4311e+01, -8.4229e-01,  3.6916e+01],\n",
      "        [ 1.2392e+00,  2.4730e+01, -8.3105e-01,  3.7855e+01],\n",
      "        [ 1.5460e+00,  2.5341e+01, -8.2202e-01,  3.8790e+01],\n",
      "        [ 1.6958e+00,  2.5788e+01, -8.1299e-01,  3.9711e+01],\n",
      "        [ 1.7318e+00,  2.6279e+01, -8.0273e-01,  4.0628e+01],\n",
      "        [ 2.2575e+00,  2.6465e+01, -7.9614e-01,  4.1525e+01],\n",
      "        [ 2.5105e+00,  2.6478e+01, -7.8442e-01,  4.2422e+01],\n",
      "        [ 2.5979e+00,  2.7127e+01, -7.7808e-01,  4.3317e+01],\n",
      "        [ 2.7023e+00,  2.7477e+01, -7.7026e-01,  4.4212e+01],\n",
      "        [ 1.5786e+00,  2.8118e+01, -7.5635e-01,  4.5094e+01],\n",
      "        [ 1.3126e+00,  2.8860e+01, -7.4951e-01,  4.5983e+01],\n",
      "        [ 1.5400e+00,  2.9090e+01, -7.3950e-01,  4.6869e+01],\n",
      "        [ 1.4764e+00,  2.9465e+01, -7.3486e-01,  4.7750e+01],\n",
      "        [ 1.9842e+00,  2.9661e+01, -7.2510e-01,  4.8626e+01],\n",
      "        [ 2.0302e+00,  2.9706e+01, -7.1240e-01,  4.9503e+01],\n",
      "        [ 2.0502e+00,  3.0179e+01, -7.0801e-01,  5.0371e+01],\n",
      "        [ 2.1903e+00,  3.0768e+01, -7.0093e-01,  5.1236e+01],\n",
      "        [ 1.7770e+00,  3.1323e+01, -6.9849e-01,  5.2096e+01],\n",
      "        [ 1.6951e+00,  3.2189e+01, -6.9336e-01,  5.2929e+01],\n",
      "        [ 1.6654e+00,  3.2484e+01, -6.9116e-01,  5.3769e+01],\n",
      "        [ 2.1577e+00,  3.2540e+01, -6.9116e-01,  5.4584e+01],\n",
      "        [ 1.7533e+00,  3.2355e+01, -6.9067e-01,  5.5396e+01],\n",
      "        [ 1.7539e+00,  3.2599e+01, -6.9019e-01,  5.6190e+01],\n",
      "        [ 1.9356e+00,  3.2867e+01, -6.9092e-01,  5.6972e+01],\n",
      "        [ 1.7468e+00,  3.3197e+01, -6.9238e-01,  5.7737e+01],\n",
      "        [ 1.7304e+00,  3.3452e+01, -6.9946e-01,  5.8489e+01],\n",
      "        [ 1.3898e+00,  3.3442e+01, -7.0361e-01,  5.9221e+01],\n",
      "        [ 1.3413e+00,  3.3777e+01, -7.0850e-01,  5.9936e+01],\n",
      "        [ 1.3756e+00,  3.4037e+01, -7.1387e-01,  6.0639e+01],\n",
      "        [ 1.2191e+00,  3.4311e+01, -7.1851e-01,  6.1326e+01],\n",
      "        [ 1.1369e+00,  3.4311e+01, -7.3047e-01,  6.1993e+01],\n",
      "        [ 1.0968e+00,  3.4583e+01, -7.3730e-01,  6.2632e+01],\n",
      "        [ 8.4317e-01,  3.4690e+01, -7.4536e-01,  6.3266e+01],\n",
      "        [ 1.1820e+00,  3.5029e+01, -7.5586e-01,  6.3903e+01],\n",
      "        [ 1.1515e+00,  3.5209e+01, -7.6636e-01,  6.4507e+01],\n",
      "        [ 1.2001e+00,  3.5416e+01, -7.7686e-01,  6.5094e+01],\n",
      "        [ 1.3427e+00,  3.5527e+01, -7.8833e-01,  6.5672e+01]],\n",
      "       grad_fn=<CatBackward>)\n",
      "-----------***------------\n",
      "tensor([[ 2.2354e+00,  1.3182e+01,  2.0588e+00,  1.3412e+01],\n",
      "        [ 2.2651e+00,  1.3964e+01,  2.0720e+00,  1.4202e+01],\n",
      "        [ 1.9786e+00,  1.4343e+01,  2.0923e+00,  1.5005e+01],\n",
      "        [ 2.3680e+00,  1.5555e+01,  2.1060e+00,  1.5789e+01],\n",
      "        [ 2.3153e+00,  1.6460e+01,  2.1306e+00,  1.6587e+01],\n",
      "        [ 2.3194e+00,  1.7244e+01,  2.1345e+00,  1.7420e+01],\n",
      "        [ 2.1476e+00,  1.8308e+01,  2.1633e+00,  1.8266e+01],\n",
      "        [ 2.2337e+00,  1.8663e+01,  2.1790e+00,  1.9050e+01],\n",
      "        [ 2.1055e+00,  1.9345e+01,  2.1907e+00,  1.9834e+01],\n",
      "        [ 2.1806e+00,  1.9815e+01,  2.1990e+00,  2.0655e+01],\n",
      "        [ 2.1322e+00,  2.0623e+01,  2.2173e+00,  2.1442e+01],\n",
      "        [ 2.2513e+00,  2.1164e+01,  2.2417e+00,  2.2268e+01],\n",
      "        [ 2.1135e+00,  2.1707e+01,  2.2544e+00,  2.3051e+01],\n",
      "        [ 2.1148e+00,  2.2513e+01,  2.2627e+00,  2.3828e+01],\n",
      "        [ 2.1332e+00,  2.3064e+01,  2.2815e+00,  2.4625e+01],\n",
      "        [ 2.1292e+00,  2.3679e+01,  2.2886e+00,  2.5425e+01],\n",
      "        [ 2.1331e+00,  2.4228e+01,  2.3000e+00,  2.6228e+01],\n",
      "        [ 2.2007e+00,  2.4870e+01,  2.3140e+00,  2.7013e+01],\n",
      "        [ 2.1346e+00,  2.5226e+01,  2.3079e+00,  2.7823e+01],\n",
      "        [ 2.1185e+00,  2.5838e+01,  2.3118e+00,  2.8608e+01],\n",
      "        [ 2.1814e+00,  2.6518e+01,  2.3154e+00,  2.9405e+01],\n",
      "        [ 2.0987e+00,  2.6846e+01,  2.3110e+00,  3.0194e+01],\n",
      "        [ 2.0801e+00,  2.7134e+01,  2.3088e+00,  3.0982e+01],\n",
      "        [ 1.9148e+00,  2.7844e+01,  2.3037e+00,  3.1767e+01],\n",
      "        [ 1.9170e+00,  2.7993e+01,  2.2988e+00,  3.2553e+01],\n",
      "        [ 1.9169e+00,  2.8417e+01,  2.2864e+00,  3.3359e+01],\n",
      "        [ 1.9335e+00,  2.8710e+01,  2.2788e+00,  3.4148e+01],\n",
      "        [ 1.8745e+00,  2.8846e+01,  2.2603e+00,  3.4931e+01],\n",
      "        [ 1.6384e+00,  2.9275e+01,  2.2385e+00,  3.5724e+01],\n",
      "        [ 1.8567e+00,  2.9778e+01,  2.2122e+00,  3.6537e+01],\n",
      "        [ 1.8967e+00,  3.0015e+01,  2.1853e+00,  3.7363e+01],\n",
      "        [ 2.0269e+00,  3.0270e+01,  2.1558e+00,  3.8196e+01],\n",
      "        [ 1.7956e+00,  2.9963e+01,  2.1169e+00,  3.9043e+01],\n",
      "        [ 1.9284e+00,  3.0766e+01,  2.0667e+00,  3.9881e+01],\n",
      "        [ 1.8153e+00,  3.0873e+01,  2.0222e+00,  4.0747e+01],\n",
      "        [ 1.9041e+00,  3.1020e+01,  1.9744e+00,  4.1629e+01],\n",
      "        [ 1.7597e+00,  3.1182e+01,  1.9236e+00,  4.2521e+01],\n",
      "        [ 1.7101e+00,  3.1304e+01,  1.8738e+00,  4.3417e+01],\n",
      "        [ 1.6433e+00,  3.1520e+01,  1.8157e+00,  4.4325e+01],\n",
      "        [ 1.3343e+00,  3.1410e+01,  1.7646e+00,  4.5216e+01],\n",
      "        [ 1.4256e+00,  3.1368e+01,  1.6973e+00,  4.6112e+01],\n",
      "        [ 1.4465e+00,  3.1490e+01,  1.6316e+00,  4.7041e+01],\n",
      "        [ 1.3838e+00,  3.1653e+01,  1.5674e+00,  4.7960e+01],\n",
      "        [ 1.3764e+00,  3.1596e+01,  1.4998e+00,  4.8861e+01],\n",
      "        [ 1.4068e+00,  3.1568e+01,  1.4399e+00,  4.9762e+01],\n",
      "        [ 1.3533e+00,  3.1431e+01,  1.3777e+00,  5.0686e+01],\n",
      "        [ 1.3843e+00,  3.1397e+01,  1.3201e+00,  5.1578e+01],\n",
      "        [ 1.1916e+00,  3.1502e+01,  1.2402e+00,  5.2496e+01],\n",
      "        [ 2.5077e+00,  3.1148e+01,  1.1768e+00,  5.3403e+01],\n",
      "        [ 1.9985e+00,  3.1167e+01,  1.1074e+00,  5.4295e+01],\n",
      "        [ 2.4771e+00,  3.1269e+01,  1.0515e+00,  5.5178e+01],\n",
      "        [ 2.4934e+00,  3.1208e+01,  9.7192e-01,  5.6092e+01],\n",
      "        [ 1.5456e+00,  3.1190e+01,  9.0308e-01,  5.6982e+01],\n",
      "        [ 1.3240e+00,  3.1040e+01,  8.3105e-01,  5.7870e+01],\n",
      "        [ 1.0755e+00,  3.0968e+01,  7.5952e-01,  5.8748e+01],\n",
      "        [ 1.2145e+00,  3.0607e+01,  6.8726e-01,  5.9611e+01],\n",
      "        [ 1.2011e+00,  3.0575e+01,  6.1768e-01,  6.0434e+01],\n",
      "        [ 7.8699e-01,  3.0095e+01,  5.4517e-01,  6.1288e+01],\n",
      "        [ 9.9047e-01,  3.0142e+01,  4.7095e-01,  6.2126e+01],\n",
      "        [ 1.3926e+00,  3.0110e+01,  3.9917e-01,  6.2970e+01],\n",
      "        [ 1.6961e+00,  3.0377e+01,  3.3081e-01,  6.3755e+01],\n",
      "        [ 1.6416e+00,  2.9778e+01,  2.6221e-01,  6.4574e+01],\n",
      "        [ 1.3785e+00,  2.9678e+01,  1.9165e-01,  6.5362e+01],\n",
      "        [ 1.0733e+00,  3.0159e+01,  1.4111e-01,  6.6127e+01],\n",
      "        [ 8.4159e-01,  3.0173e+01,  8.6182e-02,  6.6894e+01],\n",
      "        [ 7.9024e-01,  3.0192e+01,  4.8340e-02,  6.7607e+01],\n",
      "        [ 9.5968e-01,  3.1988e+01, -2.6367e-02,  6.8361e+01],\n",
      "        [ 1.2115e+00,  3.1600e+01, -8.7646e-02,  6.9095e+01],\n",
      "        [ 1.1844e+00,  3.1436e+01, -1.4209e-01,  6.9785e+01],\n",
      "        [ 1.5045e+00,  3.1564e+01, -1.8677e-01,  7.0484e+01],\n",
      "        [ 1.5786e+00,  3.1330e+01, -2.1802e-01,  7.1118e+01],\n",
      "        [ 1.7376e+00,  3.1102e+01, -2.6392e-01,  7.1792e+01],\n",
      "        [ 1.2268e+00,  3.0411e+01, -3.0151e-01,  7.2423e+01],\n",
      "        [ 9.4102e-01,  3.0999e+01, -3.3569e-01,  7.3013e+01],\n",
      "        [ 1.0262e+00,  3.0758e+01, -3.6841e-01,  7.3612e+01],\n",
      "        [ 1.5858e+00,  3.0827e+01, -3.8965e-01,  7.4142e+01],\n",
      "        [ 1.9601e+00,  3.0937e+01, -4.2188e-01,  7.4682e+01],\n",
      "        [ 2.5290e+00,  3.1284e+01, -4.4727e-01,  7.5201e+01],\n",
      "        [ 2.6397e+00,  3.1181e+01, -4.7681e-01,  7.5709e+01],\n",
      "        [ 2.7570e+00,  3.0994e+01, -4.9512e-01,  7.6175e+01]],\n",
      "       grad_fn=<CatBackward>)\n"
     ]
    }
   ],
   "source": [
    "print(torch.cat([decoded_traj[0][mode].cpu(),ground_truth[0].cpu()],axis = 1))\n",
    "print(\"-----------***------------\")\n",
    "print(torch.cat([decoded_traj[1][mode].cpu(),ground_truth[1].cpu()],axis = 1))"
   ]
  },
  {
   "cell_type": "code",
   "execution_count": 28,
   "metadata": {},
   "outputs": [
    {
     "data": {
      "image/png": "[encoded data removed]",
      "text/plain": [
       "<Figure size 432x288 with 1 Axes>"
      ]
     },
     "metadata": {
      "needs_background": "light"
     },
     "output_type": "display_data"
    }
   ],
   "source": [
    "plt.plot(decoded_traj.cpu().detach().numpy()[0,mode,:,0],decoded_traj.cpu().detach().numpy()[0,mode,:,1], label='Agent1')\n",
    "plt.plot(decoded_traj.cpu().detach().numpy()[1,mode,:,0],decoded_traj.cpu().detach().numpy()[1,mode,:,1], label='Agent2')\n",
    "plt.plot(ground_truth.cpu().detach().numpy()[0,:,0],ground_truth.cpu().detach().numpy()[0,:,1], label='Ground truth1')\n",
    "plt.plot(ground_truth.cpu().detach().numpy()[1,:,0],ground_truth.cpu().detach().numpy()[1,:,1], label='Ground truth2')\n",
    "plt.legend()\n",
    "plt.show()"
   ]
  },
  {
   "cell_type": "code",
   "execution_count": 23,
   "metadata": {},
   "outputs": [
    {
     "data": {
      "image/png": "[encoded data removed]",
      "text/plain": [
       "<Figure size 432x288 with 1 Axes>"
      ]
     },
     "metadata": {
      "needs_background": "light"
     },
     "output_type": "display_data"
    }
   ],
   "source": [
    "\n",
    "plt.plot(decoded_traj.cpu().detach().numpy()[0,0,:,0],decoded_traj.cpu().detach().numpy()[0,0,:,1], label='Agent1')\n",
    "plt.plot(decoded_traj.cpu().detach().numpy()[0,1,:,0],decoded_traj.cpu().detach().numpy()[0,1,:,1], label='Agent1')\n",
    "plt.plot(decoded_traj.cpu().detach().numpy()[0,2,:,0],decoded_traj.cpu().detach().numpy()[0,2,:,1], label='Agent1')\n",
    "plt.plot(ground_truth.cpu().detach().numpy()[0,:,0],ground_truth.cpu().detach().numpy()[0,:,1],label='Ground truth')\n",
    "plt.legend()\n",
    "plt.show()\n"
   ]
  },
  {
   "cell_type": "code",
   "execution_count": null,
   "metadata": {},
   "outputs": [],
   "source": [
    "decoded_probs"
   ]
  },
  {
   "cell_type": "code",
   "execution_count": null,
   "metadata": {},
   "outputs": [],
   "source": [
    "list(decoded_probs.cpu().detach().numpy())"
   ]
  },
  {
   "cell_type": "code",
   "execution_count": null,
   "metadata": {},
   "outputs": [],
   "source": []
  }
 ],
 "metadata": {
  "kernelspec": {
   "display_name": "ml-latest",
   "language": "python",
   "name": "ml-latest"
  },
  "language_info": {
   "codemirror_mode": {
    "name": "ipython",
    "version": 3
   },
   "file_extension": ".py",
   "mimetype": "text/x-python",
   "name": "python",
   "nbconvert_exporter": "python",
   "pygments_lexer": "ipython3",
   "version": "3.8.6"
  }
 },
 "nbformat": 4,
 "nbformat_minor": 4
}
